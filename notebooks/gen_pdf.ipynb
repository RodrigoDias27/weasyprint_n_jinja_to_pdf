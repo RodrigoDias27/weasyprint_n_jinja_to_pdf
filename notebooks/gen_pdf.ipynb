{
 "cells": [
  {
   "cell_type": "markdown",
   "metadata": {},
   "source": [
    "# Creating PDF Reports with Pandas, Jinja and WeasyPrint\n",
    "[http://pbpython.com/pdf-reports.html](http://pbpython.com/pdf-reports.html) "
   ]
  },
  {
   "cell_type": "markdown",
   "metadata": {},
   "source": [
    "First of all I've mocked some data on Mockaroo"
   ]
  },
  {
   "cell_type": "code",
   "execution_count": 1,
   "metadata": {},
   "outputs": [],
   "source": [
    "from __future__ import print_function\n",
    "import pandas as pd\n",
    "import numpy as np\n",
    "import io\n",
    "import os"
   ]
  },
  {
   "cell_type": "code",
   "execution_count": 2,
   "metadata": {},
   "outputs": [
    {
     "data": {
      "text/html": [
       "<div>\n",
       "<style scoped>\n",
       "    .dataframe tbody tr th:only-of-type {\n",
       "        vertical-align: middle;\n",
       "    }\n",
       "\n",
       "    .dataframe tbody tr th {\n",
       "        vertical-align: top;\n",
       "    }\n",
       "\n",
       "    .dataframe thead th {\n",
       "        text-align: right;\n",
       "    }\n",
       "</style>\n",
       "<table border=\"1\" class=\"dataframe\">\n",
       "  <thead>\n",
       "    <tr style=\"text-align: right;\">\n",
       "      <th></th>\n",
       "      <th>Account</th>\n",
       "      <th>Name</th>\n",
       "      <th>Company</th>\n",
       "      <th>Manager</th>\n",
       "      <th>Product</th>\n",
       "      <th>Quantity</th>\n",
       "      <th>Price</th>\n",
       "    </tr>\n",
       "  </thead>\n",
       "  <tbody>\n",
       "    <tr>\n",
       "      <th>0</th>\n",
       "      <td>383834</td>\n",
       "      <td>Izaak Tattersall</td>\n",
       "      <td>Bahringer, Balistreri and Dickens</td>\n",
       "      <td>Gloria Osbaldeston</td>\n",
       "      <td>Pork - Ham Hocks - Smoked</td>\n",
       "      <td>1</td>\n",
       "      <td>$453.55</td>\n",
       "    </tr>\n",
       "    <tr>\n",
       "      <th>1</th>\n",
       "      <td>656536</td>\n",
       "      <td>Enoch Nasey</td>\n",
       "      <td>Feeney-Aufderhar</td>\n",
       "      <td>Johnny Pearde</td>\n",
       "      <td>Wine - Chenin Blanc K.w.v.</td>\n",
       "      <td>2</td>\n",
       "      <td>$760.73</td>\n",
       "    </tr>\n",
       "    <tr>\n",
       "      <th>2</th>\n",
       "      <td>627574</td>\n",
       "      <td>Clifford Dursley</td>\n",
       "      <td>Moen Inc</td>\n",
       "      <td>Earle Geaney</td>\n",
       "      <td>Raisin - Golden</td>\n",
       "      <td>3</td>\n",
       "      <td>$320.12</td>\n",
       "    </tr>\n",
       "    <tr>\n",
       "      <th>3</th>\n",
       "      <td>707250</td>\n",
       "      <td>Peta Juliff</td>\n",
       "      <td>Pacocha and Sons</td>\n",
       "      <td>Paloma Sheavills</td>\n",
       "      <td>Carbonated Water - Raspberry</td>\n",
       "      <td>4</td>\n",
       "      <td>$132.22</td>\n",
       "    </tr>\n",
       "    <tr>\n",
       "      <th>4</th>\n",
       "      <td>532894</td>\n",
       "      <td>Shaina Estick</td>\n",
       "      <td>Block LLC</td>\n",
       "      <td>Giovanni Schwier</td>\n",
       "      <td>Steampan Lid</td>\n",
       "      <td>5</td>\n",
       "      <td>$520.72</td>\n",
       "    </tr>\n",
       "  </tbody>\n",
       "</table>\n",
       "</div>"
      ],
      "text/plain": [
       "   Account              Name                            Company  \\\n",
       "0   383834  Izaak Tattersall  Bahringer, Balistreri and Dickens   \n",
       "1   656536       Enoch Nasey                   Feeney-Aufderhar   \n",
       "2   627574  Clifford Dursley                           Moen Inc   \n",
       "3   707250       Peta Juliff                   Pacocha and Sons   \n",
       "4   532894     Shaina Estick                          Block LLC   \n",
       "\n",
       "              Manager                       Product  Quantity    Price  \n",
       "0  Gloria Osbaldeston     Pork - Ham Hocks - Smoked         1  $453.55  \n",
       "1       Johnny Pearde    Wine - Chenin Blanc K.w.v.         2  $760.73  \n",
       "2        Earle Geaney               Raisin - Golden         3  $320.12  \n",
       "3    Paloma Sheavills  Carbonated Water - Raspberry         4  $132.22  \n",
       "4    Giovanni Schwier                  Steampan Lid         5  $520.72  "
      ]
     },
     "execution_count": 2,
     "metadata": {},
     "output_type": "execute_result"
    }
   ],
   "source": [
    "df = pd.read_csv(\"../data/sales_report.csv\", sep=',', encoding='utf-8')\n",
    "df.head()"
   ]
  },
  {
   "cell_type": "code",
   "execution_count": 3,
   "metadata": {},
   "outputs": [],
   "source": [
    "price_to_num = lambda x: float(x.replace(\"$\",\"\"))\n",
    "df['Price'] = df['Price'].map(price_to_num)"
   ]
  },
  {
   "cell_type": "code",
   "execution_count": 4,
   "metadata": {},
   "outputs": [
    {
     "data": {
      "text/html": [
       "<div>\n",
       "<style scoped>\n",
       "    .dataframe tbody tr th:only-of-type {\n",
       "        vertical-align: middle;\n",
       "    }\n",
       "\n",
       "    .dataframe tbody tr th {\n",
       "        vertical-align: top;\n",
       "    }\n",
       "\n",
       "    .dataframe thead th {\n",
       "        text-align: right;\n",
       "    }\n",
       "</style>\n",
       "<table border=\"1\" class=\"dataframe\">\n",
       "  <thead>\n",
       "    <tr style=\"text-align: right;\">\n",
       "      <th></th>\n",
       "      <th>Account</th>\n",
       "      <th>Name</th>\n",
       "      <th>Company</th>\n",
       "      <th>Manager</th>\n",
       "      <th>Product</th>\n",
       "      <th>Quantity</th>\n",
       "      <th>Price</th>\n",
       "    </tr>\n",
       "  </thead>\n",
       "  <tbody>\n",
       "    <tr>\n",
       "      <th>0</th>\n",
       "      <td>383834</td>\n",
       "      <td>Izaak Tattersall</td>\n",
       "      <td>Bahringer, Balistreri and Dickens</td>\n",
       "      <td>Gloria Osbaldeston</td>\n",
       "      <td>Pork - Ham Hocks - Smoked</td>\n",
       "      <td>1</td>\n",
       "      <td>453.55</td>\n",
       "    </tr>\n",
       "    <tr>\n",
       "      <th>1</th>\n",
       "      <td>656536</td>\n",
       "      <td>Enoch Nasey</td>\n",
       "      <td>Feeney-Aufderhar</td>\n",
       "      <td>Johnny Pearde</td>\n",
       "      <td>Wine - Chenin Blanc K.w.v.</td>\n",
       "      <td>2</td>\n",
       "      <td>760.73</td>\n",
       "    </tr>\n",
       "    <tr>\n",
       "      <th>2</th>\n",
       "      <td>627574</td>\n",
       "      <td>Clifford Dursley</td>\n",
       "      <td>Moen Inc</td>\n",
       "      <td>Earle Geaney</td>\n",
       "      <td>Raisin - Golden</td>\n",
       "      <td>3</td>\n",
       "      <td>320.12</td>\n",
       "    </tr>\n",
       "    <tr>\n",
       "      <th>3</th>\n",
       "      <td>707250</td>\n",
       "      <td>Peta Juliff</td>\n",
       "      <td>Pacocha and Sons</td>\n",
       "      <td>Paloma Sheavills</td>\n",
       "      <td>Carbonated Water - Raspberry</td>\n",
       "      <td>4</td>\n",
       "      <td>132.22</td>\n",
       "    </tr>\n",
       "    <tr>\n",
       "      <th>4</th>\n",
       "      <td>532894</td>\n",
       "      <td>Shaina Estick</td>\n",
       "      <td>Block LLC</td>\n",
       "      <td>Giovanni Schwier</td>\n",
       "      <td>Steampan Lid</td>\n",
       "      <td>5</td>\n",
       "      <td>520.72</td>\n",
       "    </tr>\n",
       "  </tbody>\n",
       "</table>\n",
       "</div>"
      ],
      "text/plain": [
       "   Account              Name                            Company  \\\n",
       "0   383834  Izaak Tattersall  Bahringer, Balistreri and Dickens   \n",
       "1   656536       Enoch Nasey                   Feeney-Aufderhar   \n",
       "2   627574  Clifford Dursley                           Moen Inc   \n",
       "3   707250       Peta Juliff                   Pacocha and Sons   \n",
       "4   532894     Shaina Estick                          Block LLC   \n",
       "\n",
       "              Manager                       Product  Quantity   Price  \n",
       "0  Gloria Osbaldeston     Pork - Ham Hocks - Smoked         1  453.55  \n",
       "1       Johnny Pearde    Wine - Chenin Blanc K.w.v.         2  760.73  \n",
       "2        Earle Geaney               Raisin - Golden         3  320.12  \n",
       "3    Paloma Sheavills  Carbonated Water - Raspberry         4  132.22  \n",
       "4    Giovanni Schwier                  Steampan Lid         5  520.72  "
      ]
     },
     "execution_count": 4,
     "metadata": {},
     "output_type": "execute_result"
    }
   ],
   "source": [
    "df.head()"
   ]
  },
  {
   "cell_type": "code",
   "execution_count": 5,
   "metadata": {},
   "outputs": [
    {
     "name": "stdout",
     "output_type": "stream",
     "text": [
      "<class 'pandas.core.frame.DataFrame'>\n",
      "RangeIndex: 1000 entries, 0 to 999\n",
      "Data columns (total 7 columns):\n",
      "Account     1000 non-null int64\n",
      "Name        1000 non-null object\n",
      "Company     1000 non-null object\n",
      "Manager     1000 non-null object\n",
      "Product     1000 non-null object\n",
      "Quantity    1000 non-null int64\n",
      "Price       1000 non-null float64\n",
      "dtypes: float64(1), int64(2), object(4)\n",
      "memory usage: 54.8+ KB\n"
     ]
    }
   ],
   "source": [
    "df.info()"
   ]
  },
  {
   "cell_type": "code",
   "execution_count": 6,
   "metadata": {},
   "outputs": [],
   "source": [
    "df.sort_values(by=['Company','Product'],inplace=True)"
   ]
  },
  {
   "cell_type": "code",
   "execution_count": 8,
   "metadata": {},
   "outputs": [
    {
     "data": {
      "text/html": [
       "<div>\n",
       "<style scoped>\n",
       "    .dataframe tbody tr th:only-of-type {\n",
       "        vertical-align: middle;\n",
       "    }\n",
       "\n",
       "    .dataframe tbody tr th {\n",
       "        vertical-align: top;\n",
       "    }\n",
       "\n",
       "    .dataframe thead tr th {\n",
       "        text-align: left;\n",
       "    }\n",
       "\n",
       "    .dataframe thead tr:last-of-type th {\n",
       "        text-align: right;\n",
       "    }\n",
       "</style>\n",
       "<table border=\"1\" class=\"dataframe\">\n",
       "  <thead>\n",
       "    <tr>\n",
       "      <th></th>\n",
       "      <th></th>\n",
       "      <th colspan=\"2\" halign=\"left\">sum</th>\n",
       "      <th colspan=\"2\" halign=\"left\">mean</th>\n",
       "    </tr>\n",
       "    <tr>\n",
       "      <th></th>\n",
       "      <th></th>\n",
       "      <th>Price</th>\n",
       "      <th>Quantity</th>\n",
       "      <th>Price</th>\n",
       "      <th>Quantity</th>\n",
       "    </tr>\n",
       "    <tr>\n",
       "      <th>Company</th>\n",
       "      <th>Product</th>\n",
       "      <th></th>\n",
       "      <th></th>\n",
       "      <th></th>\n",
       "      <th></th>\n",
       "    </tr>\n",
       "  </thead>\n",
       "  <tbody>\n",
       "    <tr>\n",
       "      <th>Abbott, Beer and Wisozk</th>\n",
       "      <th>Ice Cream Bar - Oreo Cone</th>\n",
       "      <td>541.42</td>\n",
       "      <td>923</td>\n",
       "      <td>541.42</td>\n",
       "      <td>923</td>\n",
       "    </tr>\n",
       "    <tr>\n",
       "      <th>Abbott, Metz and Emard</th>\n",
       "      <th>Sprouts - Pea</th>\n",
       "      <td>779.21</td>\n",
       "      <td>213</td>\n",
       "      <td>779.21</td>\n",
       "      <td>213</td>\n",
       "    </tr>\n",
       "    <tr>\n",
       "      <th>Abbott-Borer</th>\n",
       "      <th>Mints - Striped Red</th>\n",
       "      <td>957.16</td>\n",
       "      <td>382</td>\n",
       "      <td>957.16</td>\n",
       "      <td>382</td>\n",
       "    </tr>\n",
       "    <tr>\n",
       "      <th>Abernathy LLC</th>\n",
       "      <th>Prunes - Pitted</th>\n",
       "      <td>990.19</td>\n",
       "      <td>595</td>\n",
       "      <td>990.19</td>\n",
       "      <td>595</td>\n",
       "    </tr>\n",
       "    <tr>\n",
       "      <th>Abernathy and Sons</th>\n",
       "      <th>Wine - Touraine Azay - Le - Rideau</th>\n",
       "      <td>340.63</td>\n",
       "      <td>847</td>\n",
       "      <td>340.63</td>\n",
       "      <td>847</td>\n",
       "    </tr>\n",
       "  </tbody>\n",
       "</table>\n",
       "</div>"
      ],
      "text/plain": [
       "                                                               sum           \\\n",
       "                                                             Price Quantity   \n",
       "Company                 Product                                               \n",
       "Abbott, Beer and Wisozk Ice Cream Bar - Oreo Cone           541.42      923   \n",
       "Abbott, Metz and Emard  Sprouts - Pea                       779.21      213   \n",
       "Abbott-Borer            Mints - Striped Red                 957.16      382   \n",
       "Abernathy LLC           Prunes - Pitted                     990.19      595   \n",
       "Abernathy and Sons      Wine - Touraine Azay - Le - Rideau  340.63      847   \n",
       "\n",
       "                                                              mean           \n",
       "                                                             Price Quantity  \n",
       "Company                 Product                                              \n",
       "Abbott, Beer and Wisozk Ice Cream Bar - Oreo Cone           541.42      923  \n",
       "Abbott, Metz and Emard  Sprouts - Pea                       779.21      213  \n",
       "Abbott-Borer            Mints - Striped Red                 957.16      382  \n",
       "Abernathy LLC           Prunes - Pitted                     990.19      595  \n",
       "Abernathy and Sons      Wine - Touraine Azay - Le - Rideau  340.63      847  "
      ]
     },
     "execution_count": 8,
     "metadata": {},
     "output_type": "execute_result"
    }
   ],
   "source": [
    "sales_pivot = df.pivot_table(index=['Company','Product'],\n",
    "                             values=['Quantity','Price'],\n",
    "                             aggfunc=[np.sum,np.mean],\n",
    "                             fill_value=0)\n",
    "sales_pivot.head()"
   ]
  },
  {
   "cell_type": "code",
   "execution_count": 9,
   "metadata": {},
   "outputs": [
    {
     "data": {
      "text/plain": [
       "Wine - Gato Negro Cabernet    4\n",
       "Broom - Corn                  3\n",
       "Compound - Pear               3\n",
       "Pork - Tenderloin, Frozen     3\n",
       "Banana - Green                3\n",
       "Name: Product, dtype: int64"
      ]
     },
     "execution_count": 9,
     "metadata": {},
     "output_type": "execute_result"
    }
   ],
   "source": [
    "df['Product'].value_counts().head()"
   ]
  },
  {
   "cell_type": "code",
   "execution_count": 10,
   "metadata": {},
   "outputs": [
    {
     "name": "stdout",
     "output_type": "stream",
     "text": [
      "423.75\n",
      "354.46666666666664\n",
      "423.75\n",
      "354.46666666666664\n"
     ]
    }
   ],
   "source": [
    "print(df[df['Product']=='Wine - Gato Negro Cabernet']['Quantity'].mean())\n",
    "print(df[df['Product']=='Pork - Tenderloin, Frozen']['Price'].mean())\n",
    "print(df[df['Product']=='Wine - Gato Negro Cabernet']['Quantity'].mean())\n",
    "print(df[df['Product']=='Pork - Tenderloin, Frozen']['Price'].mean())"
   ]
  },
  {
   "cell_type": "markdown",
   "metadata": {},
   "source": [
    "### Send to clipboard\n",
    "\n",
    "Here is a very interesting tool when you are working with pandas.\n",
    "You can simples use this function, send data to clipboard and paste on excel.\n",
    "Documentation: [link](https://pandas.pydata.org/pandas-docs/stable/generated/pandas.DataFrame.to_clipboard.html)\n",
    "\n",
    "```python\n",
    "df.to_clipboard()\n",
    "```\n",
    "\n",
    "### Notes\n",
    "\n",
    "Requirements for your platform:\n",
    "* Linux: xclip, or xsel (with gtk or PyQt4 modules)\n",
    "* Windows: none\n",
    "* OS X: none"
   ]
  },
  {
   "cell_type": "code",
   "execution_count": 11,
   "metadata": {},
   "outputs": [
    {
     "ename": "PyperclipException",
     "evalue": "\n    Pyperclip could not find a copy/paste mechanism for your system.\n    For more information, please visit https://pyperclip.readthedocs.org ",
     "output_type": "error",
     "traceback": [
      "\u001b[0;31m---------------------------------------------------------------------------\u001b[0m",
      "\u001b[0;31mPyperclipException\u001b[0m                        Traceback (most recent call last)",
      "\u001b[0;32m<ipython-input-11-d9e762ebf7d3>\u001b[0m in \u001b[0;36m<module>\u001b[0;34m()\u001b[0m\n\u001b[0;32m----> 1\u001b[0;31m \u001b[0mdf\u001b[0m\u001b[0;34m.\u001b[0m\u001b[0mto_clipboard\u001b[0m\u001b[0;34m(\u001b[0m\u001b[0;34m)\u001b[0m\u001b[0;34m\u001b[0m\u001b[0m\n\u001b[0m",
      "\u001b[0;32m~/anaconda3/lib/python3.6/site-packages/pandas/core/generic.py\u001b[0m in \u001b[0;36mto_clipboard\u001b[0;34m(self, excel, sep, **kwargs)\u001b[0m\n\u001b[1;32m   1587\u001b[0m         \"\"\"\n\u001b[1;32m   1588\u001b[0m         \u001b[0;32mfrom\u001b[0m \u001b[0mpandas\u001b[0m\u001b[0;34m.\u001b[0m\u001b[0mio\u001b[0m \u001b[0;32mimport\u001b[0m \u001b[0mclipboards\u001b[0m\u001b[0;34m\u001b[0m\u001b[0m\n\u001b[0;32m-> 1589\u001b[0;31m         \u001b[0mclipboards\u001b[0m\u001b[0;34m.\u001b[0m\u001b[0mto_clipboard\u001b[0m\u001b[0;34m(\u001b[0m\u001b[0mself\u001b[0m\u001b[0;34m,\u001b[0m \u001b[0mexcel\u001b[0m\u001b[0;34m=\u001b[0m\u001b[0mexcel\u001b[0m\u001b[0;34m,\u001b[0m \u001b[0msep\u001b[0m\u001b[0;34m=\u001b[0m\u001b[0msep\u001b[0m\u001b[0;34m,\u001b[0m \u001b[0;34m**\u001b[0m\u001b[0mkwargs\u001b[0m\u001b[0;34m)\u001b[0m\u001b[0;34m\u001b[0m\u001b[0m\n\u001b[0m\u001b[1;32m   1590\u001b[0m \u001b[0;34m\u001b[0m\u001b[0m\n\u001b[1;32m   1591\u001b[0m     \u001b[0;32mdef\u001b[0m \u001b[0mto_xarray\u001b[0m\u001b[0;34m(\u001b[0m\u001b[0mself\u001b[0m\u001b[0;34m)\u001b[0m\u001b[0;34m:\u001b[0m\u001b[0;34m\u001b[0m\u001b[0m\n",
      "\u001b[0;32m~/anaconda3/lib/python3.6/site-packages/pandas/io/clipboards.py\u001b[0m in \u001b[0;36mto_clipboard\u001b[0;34m(obj, excel, sep, **kwargs)\u001b[0m\n\u001b[1;32m    118\u001b[0m     \u001b[0;32melse\u001b[0m\u001b[0;34m:\u001b[0m\u001b[0;34m\u001b[0m\u001b[0m\n\u001b[1;32m    119\u001b[0m         \u001b[0mobjstr\u001b[0m \u001b[0;34m=\u001b[0m \u001b[0mstr\u001b[0m\u001b[0;34m(\u001b[0m\u001b[0mobj\u001b[0m\u001b[0;34m)\u001b[0m\u001b[0;34m\u001b[0m\u001b[0m\n\u001b[0;32m--> 120\u001b[0;31m     \u001b[0mclipboard_set\u001b[0m\u001b[0;34m(\u001b[0m\u001b[0mobjstr\u001b[0m\u001b[0;34m)\u001b[0m\u001b[0;34m\u001b[0m\u001b[0m\n\u001b[0m",
      "\u001b[0;32m~/anaconda3/lib/python3.6/site-packages/pandas/io/clipboard/clipboards.py\u001b[0m in \u001b[0;36m__call__\u001b[0;34m(self, *args, **kwargs)\u001b[0m\n\u001b[1;32m    125\u001b[0m \u001b[0;34m\u001b[0m\u001b[0m\n\u001b[1;32m    126\u001b[0m         \u001b[0;32mdef\u001b[0m \u001b[0m__call__\u001b[0m\u001b[0;34m(\u001b[0m\u001b[0mself\u001b[0m\u001b[0;34m,\u001b[0m \u001b[0;34m*\u001b[0m\u001b[0margs\u001b[0m\u001b[0;34m,\u001b[0m \u001b[0;34m**\u001b[0m\u001b[0mkwargs\u001b[0m\u001b[0;34m)\u001b[0m\u001b[0;34m:\u001b[0m\u001b[0;34m\u001b[0m\u001b[0m\n\u001b[0;32m--> 127\u001b[0;31m             \u001b[0;32mraise\u001b[0m \u001b[0mPyperclipException\u001b[0m\u001b[0;34m(\u001b[0m\u001b[0mEXCEPT_MSG\u001b[0m\u001b[0;34m)\u001b[0m\u001b[0;34m\u001b[0m\u001b[0m\n\u001b[0m\u001b[1;32m    128\u001b[0m \u001b[0;34m\u001b[0m\u001b[0m\n\u001b[1;32m    129\u001b[0m         \u001b[0;32mif\u001b[0m \u001b[0mPY2\u001b[0m\u001b[0;34m:\u001b[0m\u001b[0;34m\u001b[0m\u001b[0m\n",
      "\u001b[0;31mPyperclipException\u001b[0m: \n    Pyperclip could not find a copy/paste mechanism for your system.\n    For more information, please visit https://pyperclip.readthedocs.org "
     ]
    }
   ],
   "source": [
    "df.to_clipboard()"
   ]
  },
  {
   "cell_type": "markdown",
   "metadata": {},
   "source": [
    "## Templating\n",
    "Jinja is very powerfull and it's very common to use with python, it allows you to \"code\" inside a HTML template.\n",
    "\n",
    "Jinja has some [builtin filters](http://jinja.pocoo.org/docs/dev/templates/#builtin-filters) that allows you to format data."
   ]
  },
  {
   "cell_type": "markdown",
   "metadata": {},
   "source": [
    "So to start let's take a look in a simple Jinja template:\n",
    "\n",
    "```html\n",
    "<!DOCTYPE html>\n",
    "<html>\n",
    "<head lang=\"en\">\n",
    "    <meta charset=\"UTF-8\">\n",
    "    <title>{{ title }}</title>\n",
    "</head>\n",
    "<body>\n",
    "    <h2>Sales Report</h2>\n",
    "     {{ sales_pivot }}\n",
    "</body>\n",
    "</html>\n",
    "```\n",
    "\n",
    "These variables inside **{{ }}** can be used to place your data in."
   ]
  },
  {
   "cell_type": "code",
   "execution_count": 12,
   "metadata": {},
   "outputs": [],
   "source": [
    "import jinja2\n",
    "envi = jinja2.Environment(loader=jinja2.FileSystemLoader('../templates/'))\n",
    "template = envi.get_template(\"report_template.html\")"
   ]
  },
  {
   "cell_type": "code",
   "execution_count": 13,
   "metadata": {},
   "outputs": [],
   "source": [
    "template_vars = {'title' : 'Sales',\n",
    "                 'sales_pivot' : sales_pivot.to_html()}"
   ]
  },
  {
   "cell_type": "code",
   "execution_count": 14,
   "metadata": {},
   "outputs": [],
   "source": [
    "html_out = template.render(template_vars)"
   ]
  },
  {
   "cell_type": "markdown",
   "metadata": {},
   "source": [
    "## Generate PDF"
   ]
  },
  {
   "cell_type": "markdown",
   "metadata": {},
   "source": [
    "On windows I got this error:\n",
    "```msg\n",
    "OSError: dlopen() failed to load a library: cairo / cairo-2\n",
    "```\n",
    "\n",
    "So I decided to switch to ubuntu to test asap.\n",
    "\n",
    "Possible solution:\n",
    "[Looks like you don't have cairo installed](https://github.com/Kozea/CairoSVG/issues/84)"
   ]
  },
  {
   "cell_type": "code",
   "execution_count": 15,
   "metadata": {
    "scrolled": true
   },
   "outputs": [],
   "source": [
    "from weasyprint import HTML"
   ]
  },
  {
   "cell_type": "code",
   "execution_count": 16,
   "metadata": {},
   "outputs": [],
   "source": [
    "HTML(string=html_out).write_pdf('../reports/report.pdf')"
   ]
  },
  {
   "cell_type": "markdown",
   "metadata": {},
   "source": [
    "You can use css style as well, just add stylesheets params"
   ]
  },
  {
   "cell_type": "code",
   "execution_count": 17,
   "metadata": {},
   "outputs": [],
   "source": [
    "HTML(string=html_out).write_pdf('../reports/report_css.pdf', stylesheets=[\"../templates/assets/css/style.css\"])"
   ]
  },
  {
   "cell_type": "markdown",
   "metadata": {},
   "source": [
    "## Printing a chart"
   ]
  },
  {
   "cell_type": "code",
   "execution_count": 18,
   "metadata": {},
   "outputs": [],
   "source": [
    "data_dict = [{'Descrição': 'Avaliaram', 'Valor': 10},\n",
    "            {'Descrição': 'Não Avaliaram', 'Valor': 5}]\n",
    "\n",
    "values = []"
   ]
  },
  {
   "cell_type": "code",
   "execution_count": 19,
   "metadata": {},
   "outputs": [
    {
     "data": {
      "text/html": [
       "<div>\n",
       "<style scoped>\n",
       "    .dataframe tbody tr th:only-of-type {\n",
       "        vertical-align: middle;\n",
       "    }\n",
       "\n",
       "    .dataframe tbody tr th {\n",
       "        vertical-align: top;\n",
       "    }\n",
       "\n",
       "    .dataframe thead th {\n",
       "        text-align: right;\n",
       "    }\n",
       "</style>\n",
       "<table border=\"1\" class=\"dataframe\">\n",
       "  <thead>\n",
       "    <tr style=\"text-align: right;\">\n",
       "      <th></th>\n",
       "      <th>Descrição</th>\n",
       "      <th>Valor</th>\n",
       "    </tr>\n",
       "  </thead>\n",
       "  <tbody>\n",
       "    <tr>\n",
       "      <th>0</th>\n",
       "      <td>Avaliaram</td>\n",
       "      <td>10</td>\n",
       "    </tr>\n",
       "    <tr>\n",
       "      <th>1</th>\n",
       "      <td>Não Avaliaram</td>\n",
       "      <td>5</td>\n",
       "    </tr>\n",
       "  </tbody>\n",
       "</table>\n",
       "</div>"
      ],
      "text/plain": [
       "       Descrição  Valor\n",
       "0      Avaliaram     10\n",
       "1  Não Avaliaram      5"
      ]
     },
     "execution_count": 19,
     "metadata": {},
     "output_type": "execute_result"
    }
   ],
   "source": [
    "data = pd.DataFrame(data_dict)\n",
    "data.head()"
   ]
  },
  {
   "cell_type": "code",
   "execution_count": 20,
   "metadata": {},
   "outputs": [],
   "source": [
    "import matplotlib.pyplot as plt"
   ]
  },
  {
   "cell_type": "code",
   "execution_count": 21,
   "metadata": {},
   "outputs": [],
   "source": [
    "def make_autopct(values):\n",
    "    \"\"\" Get values in a format ##% (##) to a chart \"\"\"\n",
    "    def my_autopct(pct):\n",
    "        total = sum(values)\n",
    "        val = int(round(pct*total/100.0))\n",
    "        return '{p:.0f}%  ({v:d})'.format(p=pct,v=val)\n",
    "    return my_autopct"
   ]
  },
  {
   "cell_type": "markdown",
   "metadata": {},
   "source": [
    "Params to print chart "
   ]
  },
  {
   "cell_type": "code",
   "execution_count": 22,
   "metadata": {},
   "outputs": [],
   "source": [
    "plot_params = {\n",
    "    'y':'Valor',\n",
    "    'kind':'pie',\n",
    "    'figsize':(5, 5),\n",
    "    'labels':data['Descrição'],\n",
    "    'legend':False,\n",
    "    'autopct':make_autopct(data['Valor']),\n",
    "    'startangle': 90,\n",
    "    'counterclock': True,\n",
    "    'fontsize': 14\n",
    "}"
   ]
  },
  {
   "cell_type": "code",
   "execution_count": 23,
   "metadata": {
    "scrolled": true
   },
   "outputs": [
    {
     "data": {
      "image/png": "[encoded data removed]",
      "text/plain": [
       "<matplotlib.figure.Figure at 0x7fbf3cd11668>"
      ]
     },
     "metadata": {},
     "output_type": "display_data"
    }
   ],
   "source": [
    "plot = data.plot(**plot_params)\n",
    "_ = plot.set_ylabel(\"\")"
   ]
  },
  {
   "cell_type": "code",
   "execution_count": 24,
   "metadata": {},
   "outputs": [],
   "source": [
    "fig = plot.get_figure()"
   ]
  },
  {
   "cell_type": "markdown",
   "metadata": {},
   "source": [
    "### Convert chart to html\n",
    "\n",
    "Convert figure in a BytesIO and get a String in base64 to send to html.\n",
    "\n",
    "[Converting matplotlib png to base64 for viewing in html template](https://stackoverflow.com/questions/31492525/converting-matplotlib-png-to-base64-for-viewing-in-html-template)\n",
    "\n",
    "Chart uses the following template:\n",
    "\n",
    "```html\n",
    "<!DOCTYPE html>\n",
    "<html>\n",
    "<head lang=\"en\">\n",
    "    <meta charset=\"UTF-8\">\n",
    "    <title>{{ title }}</title>\n",
    "</head>\n",
    "<body>\n",
    "    <h2>Pie Chart</h2>\n",
    "     <img src=\"data:image/png;base64,{{ chart }}\"\\>\n",
    "</body>\n",
    "</html>\n",
    "```"
   ]
  },
  {
   "cell_type": "code",
   "execution_count": 25,
   "metadata": {},
   "outputs": [],
   "source": [
    "from io import BytesIO\n",
    "figfile = BytesIO()\n",
    "fig.savefig(figfile, format='png')\n",
    "figfile.seek(0)\n",
    "figdata_png = figfile.getvalue()\n",
    "import base64\n",
    "figdata_png = base64.b64encode(figfile.getvalue()).decode('utf8')"
   ]
  },
  {
   "cell_type": "code",
   "execution_count": 26,
   "metadata": {},
   "outputs": [],
   "source": [
    "template_vars = {'title' : 'Pie Chart',\n",
    "                 'chart' : figdata_png}"
   ]
  },
  {
   "cell_type": "code",
   "execution_count": 27,
   "metadata": {},
   "outputs": [],
   "source": [
    "template = envi.get_template(\"report_template_fig.html\")"
   ]
  },
  {
   "cell_type": "code",
   "execution_count": 28,
   "metadata": {},
   "outputs": [],
   "source": [
    "html_out = template.render(template_vars)"
   ]
  },
  {
   "cell_type": "code",
   "execution_count": 29,
   "metadata": {},
   "outputs": [],
   "source": [
    "HTML(string=html_out).write_pdf('../reports/report_fig.pdf', stylesheets=[\"../templates/assets/css/style.css\"])"
   ]
  },
  {
   "cell_type": "markdown",
   "metadata": {},
   "source": [
    "## Printing a chart aside a column "
   ]
  },
  {
   "cell_type": "markdown",
   "metadata": {},
   "source": [
    "For this step I use a two column to show information on left"
   ]
  },
  {
   "cell_type": "code",
   "execution_count": 30,
   "metadata": {},
   "outputs": [],
   "source": [
    "template_vars = {'chart' : figdata_png,\n",
    "                 'chart_title' : 'Professores',\n",
    "                 'professores_q_avaliaram' : 10,\n",
    "                 'professores_q_nao_avaliaram' : 5,\n",
    "                 'title' : 'Relatório'\n",
    "                }"
   ]
  },
  {
   "cell_type": "code",
   "execution_count": 31,
   "metadata": {},
   "outputs": [],
   "source": [
    "template = envi.get_template(\"report_template_columns.html\")\n",
    "html_out = template.render(template_vars)\n",
    "HTML(string=html_out).write_pdf('../reports/report_columns.pdf')"
   ]
  },
  {
   "cell_type": "markdown",
   "metadata": {},
   "source": [
    "## Printing summary"
   ]
  },
  {
   "cell_type": "code",
   "execution_count": 32,
   "metadata": {},
   "outputs": [],
   "source": [
    "import datetime"
   ]
  },
  {
   "cell_type": "code",
   "execution_count": 36,
   "metadata": {},
   "outputs": [],
   "source": [
    "template_vars = {'chart' : figdata_png,\n",
    "                 'formadora' : 'Mary Jones',\n",
    "                 'email_formadora' : 'mary@formacao.com.br',\n",
    "                 'municipio' : 'Liberty City',\n",
    "                 'start_date' : '01/04',\n",
    "                 'end_date' : '01/04',\n",
    "                 'current_week' : 4,\n",
    "                 'last_week' : 5,\n",
    "                 'disciplina' : 'História',\n",
    "                 'professores_participantes' :  15,\n",
    "                 'professores_q_avaliaram' : 10,\n",
    "                 'avaliacoes_realizadas' : 12,\n",
    "                 'professores_q_nao_avaliaram' : 5,\n",
    "                 'prof_acessaram' : 11,\n",
    "                 'prof_q_n_entraram' : 4,\n",
    "                 'meta_planos' : 4,\n",
    "                 'prof_ok' : 8,\n",
    "                 'prof_n_ok' : 7,\n",
    "                 'title' : 'Relatório',\n",
    "                 'sales_pivot' : sales_pivot.to_html(),\n",
    "                 'created_at' : '2018-04-14'\n",
    "                }"
   ]
  },
  {
   "cell_type": "code",
   "execution_count": 37,
   "metadata": {},
   "outputs": [],
   "source": [
    "template = envi.get_template(\"report_template_summary.html\")\n",
    "html_out = template.render(template_vars)\n",
    "HTML(string=html_out).write_pdf('../reports/report_summary.pdf',stylesheets=[\"../templates/assets/css/style.css\",\"../templates/assets/css/summary.css\"])"
   ]
  },
  {
   "cell_type": "markdown",
   "metadata": {},
   "source": [
    "https://www.smashingmagazine.com/2015/01/designing-for-print-with-css/"
   ]
  },
  {
   "cell_type": "code",
   "execution_count": null,
   "metadata": {},
   "outputs": [],
   "source": []
  }
 ],
 "metadata": {
  "kernelspec": {
   "display_name": "Python [default]",
   "language": "python",
   "name": "python3"
  }
 },
 "nbformat": 4,
 "nbformat_minor": 2
}
