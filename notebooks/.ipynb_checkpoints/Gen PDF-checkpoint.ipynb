{
 "cells": [
  {
   "cell_type": "markdown",
   "metadata": {},
   "source": [
    "# Creating PDF Reports with Pandas, Jinja and WeasyPrint\n",
    "[http://pbpython.com/pdf-reports.html](http://pbpython.com/pdf-reports.html) "
   ]
  },
  {
   "cell_type": "markdown",
   "metadata": {},
   "source": [
    "First of all I've mocked some data on Mockaroo"
   ]
  },
  {
   "cell_type": "code",
   "execution_count": 1,
   "metadata": {},
   "outputs": [],
   "source": [
    "from __future__ import print_function\n",
    "import pandas as pd\n",
    "import numpy as np"
   ]
  },
  {
   "cell_type": "code",
   "execution_count": 2,
   "metadata": {},
   "outputs": [
    {
     "data": {
      "text/html": [
       "<div>\n",
       "<style scoped>\n",
       "    .dataframe tbody tr th:only-of-type {\n",
       "        vertical-align: middle;\n",
       "    }\n",
       "\n",
       "    .dataframe tbody tr th {\n",
       "        vertical-align: top;\n",
       "    }\n",
       "\n",
       "    .dataframe thead th {\n",
       "        text-align: right;\n",
       "    }\n",
       "</style>\n",
       "<table border=\"1\" class=\"dataframe\">\n",
       "  <thead>\n",
       "    <tr style=\"text-align: right;\">\n",
       "      <th></th>\n",
       "      <th>Account</th>\n",
       "      <th>Name</th>\n",
       "      <th>Company</th>\n",
       "      <th>Manager</th>\n",
       "      <th>Product</th>\n",
       "      <th>Quantity</th>\n",
       "      <th>Price</th>\n",
       "    </tr>\n",
       "  </thead>\n",
       "  <tbody>\n",
       "    <tr>\n",
       "      <th>0</th>\n",
       "      <td>383834</td>\n",
       "      <td>Izaak Tattersall</td>\n",
       "      <td>Bahringer, Balistreri and Dickens</td>\n",
       "      <td>Gloria Osbaldeston</td>\n",
       "      <td>Pork - Ham Hocks - Smoked</td>\n",
       "      <td>1</td>\n",
       "      <td>$453.55</td>\n",
       "    </tr>\n",
       "    <tr>\n",
       "      <th>1</th>\n",
       "      <td>656536</td>\n",
       "      <td>Enoch Nasey</td>\n",
       "      <td>Feeney-Aufderhar</td>\n",
       "      <td>Johnny Pearde</td>\n",
       "      <td>Wine - Chenin Blanc K.w.v.</td>\n",
       "      <td>2</td>\n",
       "      <td>$760.73</td>\n",
       "    </tr>\n",
       "    <tr>\n",
       "      <th>2</th>\n",
       "      <td>627574</td>\n",
       "      <td>Clifford Dursley</td>\n",
       "      <td>Moen Inc</td>\n",
       "      <td>Earle Geaney</td>\n",
       "      <td>Raisin - Golden</td>\n",
       "      <td>3</td>\n",
       "      <td>$320.12</td>\n",
       "    </tr>\n",
       "    <tr>\n",
       "      <th>3</th>\n",
       "      <td>707250</td>\n",
       "      <td>Peta Juliff</td>\n",
       "      <td>Pacocha and Sons</td>\n",
       "      <td>Paloma Sheavills</td>\n",
       "      <td>Carbonated Water - Raspberry</td>\n",
       "      <td>4</td>\n",
       "      <td>$132.22</td>\n",
       "    </tr>\n",
       "    <tr>\n",
       "      <th>4</th>\n",
       "      <td>532894</td>\n",
       "      <td>Shaina Estick</td>\n",
       "      <td>Block LLC</td>\n",
       "      <td>Giovanni Schwier</td>\n",
       "      <td>Steampan Lid</td>\n",
       "      <td>5</td>\n",
       "      <td>$520.72</td>\n",
       "    </tr>\n",
       "  </tbody>\n",
       "</table>\n",
       "</div>"
      ],
      "text/plain": [
       "   Account              Name                            Company  \\\n",
       "0   383834  Izaak Tattersall  Bahringer, Balistreri and Dickens   \n",
       "1   656536       Enoch Nasey                   Feeney-Aufderhar   \n",
       "2   627574  Clifford Dursley                           Moen Inc   \n",
       "3   707250       Peta Juliff                   Pacocha and Sons   \n",
       "4   532894     Shaina Estick                          Block LLC   \n",
       "\n",
       "              Manager                       Product  Quantity    Price  \n",
       "0  Gloria Osbaldeston     Pork - Ham Hocks - Smoked         1  $453.55  \n",
       "1       Johnny Pearde    Wine - Chenin Blanc K.w.v.         2  $760.73  \n",
       "2        Earle Geaney               Raisin - Golden         3  $320.12  \n",
       "3    Paloma Sheavills  Carbonated Water - Raspberry         4  $132.22  \n",
       "4    Giovanni Schwier                  Steampan Lid         5  $520.72  "
      ]
     },
     "execution_count": 2,
     "metadata": {},
     "output_type": "execute_result"
    }
   ],
   "source": [
    "df = pd.read_csv(\"../data/sales_report.csv\", sep=',', encoding='utf-8')\n",
    "df.head()"
   ]
  },
  {
   "cell_type": "code",
   "execution_count": 3,
   "metadata": {},
   "outputs": [],
   "source": [
    "price_to_num = lambda x: float(x.replace(\"$\",\"\"))\n",
    "df['Price'] = df['Price'].map(price_to_num)"
   ]
  },
  {
   "cell_type": "code",
   "execution_count": 4,
   "metadata": {},
   "outputs": [
    {
     "data": {
      "text/html": [
       "<div>\n",
       "<style scoped>\n",
       "    .dataframe tbody tr th:only-of-type {\n",
       "        vertical-align: middle;\n",
       "    }\n",
       "\n",
       "    .dataframe tbody tr th {\n",
       "        vertical-align: top;\n",
       "    }\n",
       "\n",
       "    .dataframe thead th {\n",
       "        text-align: right;\n",
       "    }\n",
       "</style>\n",
       "<table border=\"1\" class=\"dataframe\">\n",
       "  <thead>\n",
       "    <tr style=\"text-align: right;\">\n",
       "      <th></th>\n",
       "      <th>Account</th>\n",
       "      <th>Name</th>\n",
       "      <th>Company</th>\n",
       "      <th>Manager</th>\n",
       "      <th>Product</th>\n",
       "      <th>Quantity</th>\n",
       "      <th>Price</th>\n",
       "    </tr>\n",
       "  </thead>\n",
       "  <tbody>\n",
       "    <tr>\n",
       "      <th>0</th>\n",
       "      <td>383834</td>\n",
       "      <td>Izaak Tattersall</td>\n",
       "      <td>Bahringer, Balistreri and Dickens</td>\n",
       "      <td>Gloria Osbaldeston</td>\n",
       "      <td>Pork - Ham Hocks - Smoked</td>\n",
       "      <td>1</td>\n",
       "      <td>453.55</td>\n",
       "    </tr>\n",
       "    <tr>\n",
       "      <th>1</th>\n",
       "      <td>656536</td>\n",
       "      <td>Enoch Nasey</td>\n",
       "      <td>Feeney-Aufderhar</td>\n",
       "      <td>Johnny Pearde</td>\n",
       "      <td>Wine - Chenin Blanc K.w.v.</td>\n",
       "      <td>2</td>\n",
       "      <td>760.73</td>\n",
       "    </tr>\n",
       "    <tr>\n",
       "      <th>2</th>\n",
       "      <td>627574</td>\n",
       "      <td>Clifford Dursley</td>\n",
       "      <td>Moen Inc</td>\n",
       "      <td>Earle Geaney</td>\n",
       "      <td>Raisin - Golden</td>\n",
       "      <td>3</td>\n",
       "      <td>320.12</td>\n",
       "    </tr>\n",
       "    <tr>\n",
       "      <th>3</th>\n",
       "      <td>707250</td>\n",
       "      <td>Peta Juliff</td>\n",
       "      <td>Pacocha and Sons</td>\n",
       "      <td>Paloma Sheavills</td>\n",
       "      <td>Carbonated Water - Raspberry</td>\n",
       "      <td>4</td>\n",
       "      <td>132.22</td>\n",
       "    </tr>\n",
       "    <tr>\n",
       "      <th>4</th>\n",
       "      <td>532894</td>\n",
       "      <td>Shaina Estick</td>\n",
       "      <td>Block LLC</td>\n",
       "      <td>Giovanni Schwier</td>\n",
       "      <td>Steampan Lid</td>\n",
       "      <td>5</td>\n",
       "      <td>520.72</td>\n",
       "    </tr>\n",
       "  </tbody>\n",
       "</table>\n",
       "</div>"
      ],
      "text/plain": [
       "   Account              Name                            Company  \\\n",
       "0   383834  Izaak Tattersall  Bahringer, Balistreri and Dickens   \n",
       "1   656536       Enoch Nasey                   Feeney-Aufderhar   \n",
       "2   627574  Clifford Dursley                           Moen Inc   \n",
       "3   707250       Peta Juliff                   Pacocha and Sons   \n",
       "4   532894     Shaina Estick                          Block LLC   \n",
       "\n",
       "              Manager                       Product  Quantity   Price  \n",
       "0  Gloria Osbaldeston     Pork - Ham Hocks - Smoked         1  453.55  \n",
       "1       Johnny Pearde    Wine - Chenin Blanc K.w.v.         2  760.73  \n",
       "2        Earle Geaney               Raisin - Golden         3  320.12  \n",
       "3    Paloma Sheavills  Carbonated Water - Raspberry         4  132.22  \n",
       "4    Giovanni Schwier                  Steampan Lid         5  520.72  "
      ]
     },
     "execution_count": 4,
     "metadata": {},
     "output_type": "execute_result"
    }
   ],
   "source": [
    "df.head()"
   ]
  },
  {
   "cell_type": "code",
   "execution_count": 5,
   "metadata": {},
   "outputs": [
    {
     "name": "stdout",
     "output_type": "stream",
     "text": [
      "<class 'pandas.core.frame.DataFrame'>\n",
      "RangeIndex: 1000 entries, 0 to 999\n",
      "Data columns (total 7 columns):\n",
      "Account     1000 non-null int64\n",
      "Name        1000 non-null object\n",
      "Company     1000 non-null object\n",
      "Manager     1000 non-null object\n",
      "Product     1000 non-null object\n",
      "Quantity    1000 non-null int64\n",
      "Price       1000 non-null float64\n",
      "dtypes: float64(1), int64(2), object(4)\n",
      "memory usage: 54.8+ KB\n"
     ]
    }
   ],
   "source": [
    "df.info()"
   ]
  },
  {
   "cell_type": "code",
   "execution_count": 6,
   "metadata": {},
   "outputs": [
    {
     "data": {
      "text/html": [
       "<div>\n",
       "<style scoped>\n",
       "    .dataframe tbody tr th:only-of-type {\n",
       "        vertical-align: middle;\n",
       "    }\n",
       "\n",
       "    .dataframe tbody tr th {\n",
       "        vertical-align: top;\n",
       "    }\n",
       "\n",
       "    .dataframe thead tr th {\n",
       "        text-align: left;\n",
       "    }\n",
       "\n",
       "    .dataframe thead tr:last-of-type th {\n",
       "        text-align: right;\n",
       "    }\n",
       "</style>\n",
       "<table border=\"1\" class=\"dataframe\">\n",
       "  <thead>\n",
       "    <tr>\n",
       "      <th></th>\n",
       "      <th></th>\n",
       "      <th></th>\n",
       "      <th colspan=\"2\" halign=\"left\">sum</th>\n",
       "      <th colspan=\"2\" halign=\"left\">mean</th>\n",
       "    </tr>\n",
       "    <tr>\n",
       "      <th></th>\n",
       "      <th></th>\n",
       "      <th></th>\n",
       "      <th>Price</th>\n",
       "      <th>Quantity</th>\n",
       "      <th>Price</th>\n",
       "      <th>Quantity</th>\n",
       "    </tr>\n",
       "    <tr>\n",
       "      <th>Company</th>\n",
       "      <th>Manager</th>\n",
       "      <th>Product</th>\n",
       "      <th></th>\n",
       "      <th></th>\n",
       "      <th></th>\n",
       "      <th></th>\n",
       "    </tr>\n",
       "  </thead>\n",
       "  <tbody>\n",
       "    <tr>\n",
       "      <th>Abbott, Beer and Wisozk</th>\n",
       "      <th>Damiano Lambdon</th>\n",
       "      <th>Ice Cream Bar - Oreo Cone</th>\n",
       "      <td>541.42</td>\n",
       "      <td>923</td>\n",
       "      <td>541.42</td>\n",
       "      <td>923</td>\n",
       "    </tr>\n",
       "    <tr>\n",
       "      <th>Abbott, Metz and Emard</th>\n",
       "      <th>Pietra Puttan</th>\n",
       "      <th>Sprouts - Pea</th>\n",
       "      <td>779.21</td>\n",
       "      <td>213</td>\n",
       "      <td>779.21</td>\n",
       "      <td>213</td>\n",
       "    </tr>\n",
       "    <tr>\n",
       "      <th>Abbott-Borer</th>\n",
       "      <th>Anselma MacKain</th>\n",
       "      <th>Mints - Striped Red</th>\n",
       "      <td>957.16</td>\n",
       "      <td>382</td>\n",
       "      <td>957.16</td>\n",
       "      <td>382</td>\n",
       "    </tr>\n",
       "    <tr>\n",
       "      <th>Abernathy LLC</th>\n",
       "      <th>Abelard Greenrodd</th>\n",
       "      <th>Prunes - Pitted</th>\n",
       "      <td>990.19</td>\n",
       "      <td>595</td>\n",
       "      <td>990.19</td>\n",
       "      <td>595</td>\n",
       "    </tr>\n",
       "    <tr>\n",
       "      <th>Abernathy and Sons</th>\n",
       "      <th>Amby Scallon</th>\n",
       "      <th>Wine - Touraine Azay - Le - Rideau</th>\n",
       "      <td>340.63</td>\n",
       "      <td>847</td>\n",
       "      <td>340.63</td>\n",
       "      <td>847</td>\n",
       "    </tr>\n",
       "  </tbody>\n",
       "</table>\n",
       "</div>"
      ],
      "text/plain": [
       "                                                                                 sum  \\\n",
       "                                                                               Price   \n",
       "Company                 Manager           Product                                      \n",
       "Abbott, Beer and Wisozk Damiano Lambdon   Ice Cream Bar - Oreo Cone           541.42   \n",
       "Abbott, Metz and Emard  Pietra Puttan     Sprouts - Pea                       779.21   \n",
       "Abbott-Borer            Anselma MacKain   Mints - Striped Red                 957.16   \n",
       "Abernathy LLC           Abelard Greenrodd Prunes - Pitted                     990.19   \n",
       "Abernathy and Sons      Amby Scallon      Wine - Touraine Azay - Le - Rideau  340.63   \n",
       "\n",
       "                                                                                       \\\n",
       "                                                                             Quantity   \n",
       "Company                 Manager           Product                                       \n",
       "Abbott, Beer and Wisozk Damiano Lambdon   Ice Cream Bar - Oreo Cone               923   \n",
       "Abbott, Metz and Emard  Pietra Puttan     Sprouts - Pea                           213   \n",
       "Abbott-Borer            Anselma MacKain   Mints - Striped Red                     382   \n",
       "Abernathy LLC           Abelard Greenrodd Prunes - Pitted                         595   \n",
       "Abernathy and Sons      Amby Scallon      Wine - Touraine Azay - Le - Rideau      847   \n",
       "\n",
       "                                                                                mean  \\\n",
       "                                                                               Price   \n",
       "Company                 Manager           Product                                      \n",
       "Abbott, Beer and Wisozk Damiano Lambdon   Ice Cream Bar - Oreo Cone           541.42   \n",
       "Abbott, Metz and Emard  Pietra Puttan     Sprouts - Pea                       779.21   \n",
       "Abbott-Borer            Anselma MacKain   Mints - Striped Red                 957.16   \n",
       "Abernathy LLC           Abelard Greenrodd Prunes - Pitted                     990.19   \n",
       "Abernathy and Sons      Amby Scallon      Wine - Touraine Azay - Le - Rideau  340.63   \n",
       "\n",
       "                                                                                       \n",
       "                                                                             Quantity  \n",
       "Company                 Manager           Product                                      \n",
       "Abbott, Beer and Wisozk Damiano Lambdon   Ice Cream Bar - Oreo Cone               923  \n",
       "Abbott, Metz and Emard  Pietra Puttan     Sprouts - Pea                           213  \n",
       "Abbott-Borer            Anselma MacKain   Mints - Striped Red                     382  \n",
       "Abernathy LLC           Abelard Greenrodd Prunes - Pitted                         595  \n",
       "Abernathy and Sons      Amby Scallon      Wine - Touraine Azay - Le - Rideau      847  "
      ]
     },
     "execution_count": 6,
     "metadata": {},
     "output_type": "execute_result"
    }
   ],
   "source": [
    "sales_pivot = df.pivot_table(index=['Company','Manager','Product'],\n",
    "                             values=['Quantity','Price'],\n",
    "                             aggfunc=[np.sum,np.mean],\n",
    "                             fill_value=0)\n",
    "sales_pivot.head()"
   ]
  },
  {
   "cell_type": "code",
   "execution_count": 7,
   "metadata": {},
   "outputs": [
    {
     "data": {
      "text/plain": [
       "Wine - Gato Negro Cabernet    4\n",
       "Bandage - Fexible 1x3         3\n",
       "Pail For Lid 1537             3\n",
       "Mushroom - Crimini            3\n",
       "Beef - Chuck, Boneless        3\n",
       "Name: Product, dtype: int64"
      ]
     },
     "execution_count": 7,
     "metadata": {},
     "output_type": "execute_result"
    }
   ],
   "source": [
    "df['Product'].value_counts().head()"
   ]
  },
  {
   "cell_type": "code",
   "execution_count": 8,
   "metadata": {},
   "outputs": [
    {
     "name": "stdout",
     "output_type": "stream",
     "text": [
      "423.75\n",
      "354.46666666666664\n",
      "423.75\n",
      "354.46666666666664\n"
     ]
    }
   ],
   "source": [
    "print(df[df['Product']=='Wine - Gato Negro Cabernet']['Quantity'].mean())\n",
    "print(df[df['Product']=='Pork - Tenderloin, Frozen']['Price'].mean())\n",
    "print(df[df['Product']=='Wine - Gato Negro Cabernet']['Quantity'].mean())\n",
    "print(df[df['Product']=='Pork - Tenderloin, Frozen']['Price'].mean())"
   ]
  },
  {
   "cell_type": "markdown",
   "metadata": {},
   "source": [
    "Here is a very interesting tool when you are working with pandas.\n",
    "You can simples use this function, send data to clipboard and paste on excel.\n",
    "```python\n",
    "df.to_clipboard()\n",
    "```"
   ]
  },
  {
   "cell_type": "code",
   "execution_count": 9,
   "metadata": {},
   "outputs": [],
   "source": [
    "df.to_clipboard()"
   ]
  },
  {
   "cell_type": "markdown",
   "metadata": {},
   "source": [
    "## Templating\n",
    "Jinja is very powerfull and it's very common to use with python, it allows you to \"code\" inside a HTML template.\n",
    "\n",
    "Jinja has some [builtin filters](http://jinja.pocoo.org/docs/dev/templates/#builtin-filters) that allows you to format data."
   ]
  },
  {
   "cell_type": "markdown",
   "metadata": {},
   "source": [
    "So to start let's take a look in a simple Jinja template:\n",
    "\n",
    "```html\n",
    "<!DOCTYPE html>\n",
    "<html>\n",
    "<head lang=\"en\">\n",
    "    <meta charset=\"UTF-8\">\n",
    "    <title>{{ title }}</title>\n",
    "</head>\n",
    "<body>\n",
    "    <h2>Sales Report</h2>\n",
    "     {{ sales_pivot }}\n",
    "</body>\n",
    "</html>\n",
    "```\n",
    "\n",
    "These variables inside **{{ }}** can be used to place your data in."
   ]
  },
  {
   "cell_type": "code",
   "execution_count": 10,
   "metadata": {},
   "outputs": [],
   "source": [
    "import jinja2\n",
    "envi = jinja2.Environment(loader=jinja2.FileSystemLoader('./'))\n",
    "template = envi.get_template(\"report_template.html\")"
   ]
  },
  {
   "cell_type": "code",
   "execution_count": 11,
   "metadata": {},
   "outputs": [],
   "source": [
    "template_vars = {'title' : 'Sales',\n",
    "                 'sales_pivot' : sales_pivot.to_html()}"
   ]
  },
  {
   "cell_type": "code",
   "execution_count": 12,
   "metadata": {},
   "outputs": [],
   "source": [
    "html_out = template.render(template_vars)"
   ]
  },
  {
   "cell_type": "markdown",
   "metadata": {},
   "source": [
    "## Generate PDF"
   ]
  },
  {
   "cell_type": "markdown",
   "metadata": {},
   "source": [
    "```msg\n",
    "OSError: dlopen() failed to load a library: cairo / cairo-2\n",
    "```\n",
    "\n",
    "[Looks like you don't have cairo installed](https://github.com/Kozea/CairoSVG/issues/84)"
   ]
  },
  {
   "cell_type": "code",
   "execution_count": 13,
   "metadata": {
    "scrolled": true
   },
   "outputs": [
    {
     "ename": "OSError",
     "evalue": "dlopen() failed to load a library: cairo / cairo-2",
     "output_type": "error",
     "traceback": [
      "\u001b[1;31m---------------------------------------------------------------------------\u001b[0m",
      "\u001b[1;31mOSError\u001b[0m                                   Traceback (most recent call last)",
      "\u001b[1;32m<ipython-input-13-b215ea23aec8>\u001b[0m in \u001b[0;36m<module>\u001b[1;34m()\u001b[0m\n\u001b[1;32m----> 1\u001b[1;33m \u001b[1;32mfrom\u001b[0m \u001b[0mweasyprint\u001b[0m \u001b[1;32mimport\u001b[0m \u001b[0mHTML\u001b[0m\u001b[1;33m\u001b[0m\u001b[0m\n\u001b[0m",
      "\u001b[1;32m~\\AppData\\Local\\conda\\conda\\envs\\python3\\lib\\site-packages\\weasyprint\\__init__.py\u001b[0m in \u001b[0;36m<module>\u001b[1;34m()\u001b[0m\n\u001b[0;32m    373\u001b[0m \u001b[1;33m\u001b[0m\u001b[0m\n\u001b[0;32m    374\u001b[0m \u001b[1;31m# Work around circular imports.\u001b[0m\u001b[1;33m\u001b[0m\u001b[1;33m\u001b[0m\u001b[0m\n\u001b[1;32m--> 375\u001b[1;33m \u001b[1;32mfrom\u001b[0m \u001b[1;33m.\u001b[0m\u001b[0mcss\u001b[0m \u001b[1;32mimport\u001b[0m \u001b[0mpreprocess_stylesheet\u001b[0m  \u001b[1;31m# noqa\u001b[0m\u001b[1;33m\u001b[0m\u001b[0m\n\u001b[0m\u001b[0;32m    376\u001b[0m from .html import (\n\u001b[0;32m    377\u001b[0m     \u001b[0mfind_base_url\u001b[0m\u001b[1;33m,\u001b[0m \u001b[0mHTML5_UA_STYLESHEET\u001b[0m\u001b[1;33m,\u001b[0m \u001b[0mHTML5_PH_STYLESHEET\u001b[0m\u001b[1;33m,\u001b[0m\u001b[1;33m\u001b[0m\u001b[0m\n",
      "\u001b[1;32m~\\AppData\\Local\\conda\\conda\\envs\\python3\\lib\\site-packages\\weasyprint\\css\\__init__.py\u001b[0m in \u001b[0;36m<module>\u001b[1;34m()\u001b[0m\n\u001b[0;32m     27\u001b[0m \u001b[1;33m\u001b[0m\u001b[0m\n\u001b[0;32m     28\u001b[0m \u001b[1;32mfrom\u001b[0m \u001b[1;33m.\u001b[0m \u001b[1;32mimport\u001b[0m \u001b[0mproperties\u001b[0m\u001b[1;33m\u001b[0m\u001b[0m\n\u001b[1;32m---> 29\u001b[1;33m \u001b[1;32mfrom\u001b[0m \u001b[1;33m.\u001b[0m \u001b[1;32mimport\u001b[0m \u001b[0mcomputed_values\u001b[0m\u001b[1;33m\u001b[0m\u001b[0m\n\u001b[0m\u001b[0;32m     30\u001b[0m \u001b[1;32mfrom\u001b[0m \u001b[1;33m.\u001b[0m\u001b[0mdescriptors\u001b[0m \u001b[1;32mimport\u001b[0m \u001b[0mpreprocess_descriptors\u001b[0m\u001b[1;33m\u001b[0m\u001b[0m\n\u001b[0;32m     31\u001b[0m \u001b[1;32mfrom\u001b[0m \u001b[1;33m.\u001b[0m\u001b[0mproperties\u001b[0m \u001b[1;32mimport\u001b[0m \u001b[0mINITIAL_NOT_COMPUTED\u001b[0m\u001b[1;33m\u001b[0m\u001b[0m\n",
      "\u001b[1;32m~\\AppData\\Local\\conda\\conda\\envs\\python3\\lib\\site-packages\\weasyprint\\css\\computed_values.py\u001b[0m in \u001b[0;36m<module>\u001b[1;34m()\u001b[0m\n\u001b[0;32m     14\u001b[0m \u001b[1;32mfrom\u001b[0m \u001b[0m__future__\u001b[0m \u001b[1;32mimport\u001b[0m \u001b[0mdivision\u001b[0m\u001b[1;33m,\u001b[0m \u001b[0municode_literals\u001b[0m\u001b[1;33m\u001b[0m\u001b[0m\n\u001b[0;32m     15\u001b[0m \u001b[1;33m\u001b[0m\u001b[0m\n\u001b[1;32m---> 16\u001b[1;33m \u001b[1;32mfrom\u001b[0m \u001b[1;33m.\u001b[0m\u001b[1;33m.\u001b[0m \u001b[1;32mimport\u001b[0m \u001b[0mtext\u001b[0m\u001b[1;33m\u001b[0m\u001b[0m\n\u001b[0m\u001b[0;32m     17\u001b[0m \u001b[1;32mfrom\u001b[0m \u001b[1;33m.\u001b[0m\u001b[1;33m.\u001b[0m\u001b[0murls\u001b[0m \u001b[1;32mimport\u001b[0m \u001b[0mget_link_attribute\u001b[0m\u001b[1;33m\u001b[0m\u001b[0m\n\u001b[0;32m     18\u001b[0m \u001b[1;32mfrom\u001b[0m \u001b[1;33m.\u001b[0m\u001b[0mproperties\u001b[0m \u001b[1;32mimport\u001b[0m \u001b[0mINITIAL_VALUES\u001b[0m\u001b[1;33m,\u001b[0m \u001b[0mDimension\u001b[0m\u001b[1;33m\u001b[0m\u001b[0m\n",
      "\u001b[1;32m~\\AppData\\Local\\conda\\conda\\envs\\python3\\lib\\site-packages\\weasyprint\\text.py\u001b[0m in \u001b[0;36m<module>\u001b[1;34m()\u001b[0m\n\u001b[0;32m     16\u001b[0m \u001b[1;32mimport\u001b[0m \u001b[0mwarnings\u001b[0m\u001b[1;33m\u001b[0m\u001b[0m\n\u001b[0;32m     17\u001b[0m \u001b[1;33m\u001b[0m\u001b[0m\n\u001b[1;32m---> 18\u001b[1;33m \u001b[1;32mimport\u001b[0m \u001b[0mcairocffi\u001b[0m \u001b[1;32mas\u001b[0m \u001b[0mcairo\u001b[0m\u001b[1;33m\u001b[0m\u001b[0m\n\u001b[0m\u001b[0;32m     19\u001b[0m \u001b[1;32mimport\u001b[0m \u001b[0mcffi\u001b[0m\u001b[1;33m\u001b[0m\u001b[0m\n\u001b[0;32m     20\u001b[0m \u001b[1;32mimport\u001b[0m \u001b[0mpyphen\u001b[0m\u001b[1;33m\u001b[0m\u001b[0m\n",
      "\u001b[1;32m~\\AppData\\Local\\conda\\conda\\envs\\python3\\lib\\site-packages\\cairocffi\\__init__.py\u001b[0m in \u001b[0;36m<module>\u001b[1;34m()\u001b[0m\n\u001b[0;32m     39\u001b[0m \u001b[1;33m\u001b[0m\u001b[0m\n\u001b[0;32m     40\u001b[0m \u001b[1;33m\u001b[0m\u001b[0m\n\u001b[1;32m---> 41\u001b[1;33m \u001b[0mcairo\u001b[0m \u001b[1;33m=\u001b[0m \u001b[0mdlopen\u001b[0m\u001b[1;33m(\u001b[0m\u001b[0mffi\u001b[0m\u001b[1;33m,\u001b[0m \u001b[1;34m'cairo'\u001b[0m\u001b[1;33m,\u001b[0m \u001b[1;34m'cairo-2'\u001b[0m\u001b[1;33m)\u001b[0m\u001b[1;33m\u001b[0m\u001b[0m\n\u001b[0m\u001b[0;32m     42\u001b[0m \u001b[1;33m\u001b[0m\u001b[0m\n\u001b[0;32m     43\u001b[0m \u001b[1;33m\u001b[0m\u001b[0m\n",
      "\u001b[1;32m~\\AppData\\Local\\conda\\conda\\envs\\python3\\lib\\site-packages\\cairocffi\\__init__.py\u001b[0m in \u001b[0;36mdlopen\u001b[1;34m(ffi, *names)\u001b[0m\n\u001b[0;32m     36\u001b[0m             \u001b[1;32mexcept\u001b[0m \u001b[0mOSError\u001b[0m\u001b[1;33m:\u001b[0m\u001b[1;33m\u001b[0m\u001b[0m\n\u001b[0;32m     37\u001b[0m                 \u001b[1;32mpass\u001b[0m\u001b[1;33m\u001b[0m\u001b[0m\n\u001b[1;32m---> 38\u001b[1;33m     \u001b[1;32mraise\u001b[0m \u001b[0mOSError\u001b[0m\u001b[1;33m(\u001b[0m\u001b[1;34m\"dlopen() failed to load a library: %s\"\u001b[0m \u001b[1;33m%\u001b[0m \u001b[1;34m' / '\u001b[0m\u001b[1;33m.\u001b[0m\u001b[0mjoin\u001b[0m\u001b[1;33m(\u001b[0m\u001b[0mnames\u001b[0m\u001b[1;33m)\u001b[0m\u001b[1;33m)\u001b[0m\u001b[1;33m\u001b[0m\u001b[0m\n\u001b[0m\u001b[0;32m     39\u001b[0m \u001b[1;33m\u001b[0m\u001b[0m\n\u001b[0;32m     40\u001b[0m \u001b[1;33m\u001b[0m\u001b[0m\n",
      "\u001b[1;31mOSError\u001b[0m: dlopen() failed to load a library: cairo / cairo-2"
     ]
    }
   ],
   "source": [
    "from weasyprint import HTML"
   ]
  },
  {
   "cell_type": "code",
   "execution_count": null,
   "metadata": {},
   "outputs": [],
   "source": [
    "HTML(string=html_out).write_pdf('report.pdf')"
   ]
  }
 ],
 "metadata": {
  "kernelspec": {
   "display_name": "Python 3",
   "language": "python",
   "name": "python3"
  },
  "language_info": {
   "codemirror_mode": {
    "name": "ipython",
    "version": 3
   },
   "file_extension": ".py",
   "mimetype": "text/x-python",
   "name": "python",
   "nbconvert_exporter": "python",
   "pygments_lexer": "ipython3",
   "version": "3.6.4"
  }
 },
 "nbformat": 4,
 "nbformat_minor": 2
}
