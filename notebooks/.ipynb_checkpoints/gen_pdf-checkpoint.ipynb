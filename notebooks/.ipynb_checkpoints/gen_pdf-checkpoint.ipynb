{
 "cells": [
  {
   "cell_type": "markdown",
   "metadata": {},
   "source": [
    "# Creating PDF Reports with Pandas, Jinja and WeasyPrint\n",
    "[http://pbpython.com/pdf-reports.html](http://pbpython.com/pdf-reports.html) "
   ]
  },
  {
   "cell_type": "markdown",
   "metadata": {},
   "source": [
    "First of all I've mocked some data on Mockaroo"
   ]
  },
  {
   "cell_type": "code",
   "execution_count": 12,
   "metadata": {},
   "outputs": [],
   "source": [
    "from __future__ import print_function\n",
    "import pandas as pd\n",
    "import numpy as np"
   ]
  },
  {
   "cell_type": "code",
   "execution_count": 13,
   "metadata": {},
   "outputs": [
    {
     "data": {
      "text/html": [
       "<div>\n",
       "<style scoped>\n",
       "    .dataframe tbody tr th:only-of-type {\n",
       "        vertical-align: middle;\n",
       "    }\n",
       "\n",
       "    .dataframe tbody tr th {\n",
       "        vertical-align: top;\n",
       "    }\n",
       "\n",
       "    .dataframe thead th {\n",
       "        text-align: right;\n",
       "    }\n",
       "</style>\n",
       "<table border=\"1\" class=\"dataframe\">\n",
       "  <thead>\n",
       "    <tr style=\"text-align: right;\">\n",
       "      <th></th>\n",
       "      <th>Account</th>\n",
       "      <th>Name</th>\n",
       "      <th>Company</th>\n",
       "      <th>Manager</th>\n",
       "      <th>Product</th>\n",
       "      <th>Quantity</th>\n",
       "      <th>Price</th>\n",
       "    </tr>\n",
       "  </thead>\n",
       "  <tbody>\n",
       "    <tr>\n",
       "      <th>0</th>\n",
       "      <td>383834</td>\n",
       "      <td>Izaak Tattersall</td>\n",
       "      <td>Bahringer, Balistreri and Dickens</td>\n",
       "      <td>Gloria Osbaldeston</td>\n",
       "      <td>Pork - Ham Hocks - Smoked</td>\n",
       "      <td>1</td>\n",
       "      <td>$453.55</td>\n",
       "    </tr>\n",
       "    <tr>\n",
       "      <th>1</th>\n",
       "      <td>656536</td>\n",
       "      <td>Enoch Nasey</td>\n",
       "      <td>Feeney-Aufderhar</td>\n",
       "      <td>Johnny Pearde</td>\n",
       "      <td>Wine - Chenin Blanc K.w.v.</td>\n",
       "      <td>2</td>\n",
       "      <td>$760.73</td>\n",
       "    </tr>\n",
       "    <tr>\n",
       "      <th>2</th>\n",
       "      <td>627574</td>\n",
       "      <td>Clifford Dursley</td>\n",
       "      <td>Moen Inc</td>\n",
       "      <td>Earle Geaney</td>\n",
       "      <td>Raisin - Golden</td>\n",
       "      <td>3</td>\n",
       "      <td>$320.12</td>\n",
       "    </tr>\n",
       "    <tr>\n",
       "      <th>3</th>\n",
       "      <td>707250</td>\n",
       "      <td>Peta Juliff</td>\n",
       "      <td>Pacocha and Sons</td>\n",
       "      <td>Paloma Sheavills</td>\n",
       "      <td>Carbonated Water - Raspberry</td>\n",
       "      <td>4</td>\n",
       "      <td>$132.22</td>\n",
       "    </tr>\n",
       "    <tr>\n",
       "      <th>4</th>\n",
       "      <td>532894</td>\n",
       "      <td>Shaina Estick</td>\n",
       "      <td>Block LLC</td>\n",
       "      <td>Giovanni Schwier</td>\n",
       "      <td>Steampan Lid</td>\n",
       "      <td>5</td>\n",
       "      <td>$520.72</td>\n",
       "    </tr>\n",
       "  </tbody>\n",
       "</table>\n",
       "</div>"
      ],
      "text/plain": [
       "   Account              Name                            Company  \\\n",
       "0   383834  Izaak Tattersall  Bahringer, Balistreri and Dickens   \n",
       "1   656536       Enoch Nasey                   Feeney-Aufderhar   \n",
       "2   627574  Clifford Dursley                           Moen Inc   \n",
       "3   707250       Peta Juliff                   Pacocha and Sons   \n",
       "4   532894     Shaina Estick                          Block LLC   \n",
       "\n",
       "              Manager                       Product  Quantity    Price  \n",
       "0  Gloria Osbaldeston     Pork - Ham Hocks - Smoked         1  $453.55  \n",
       "1       Johnny Pearde    Wine - Chenin Blanc K.w.v.         2  $760.73  \n",
       "2        Earle Geaney               Raisin - Golden         3  $320.12  \n",
       "3    Paloma Sheavills  Carbonated Water - Raspberry         4  $132.22  \n",
       "4    Giovanni Schwier                  Steampan Lid         5  $520.72  "
      ]
     },
     "execution_count": 13,
     "metadata": {},
     "output_type": "execute_result"
    }
   ],
   "source": [
    "df = pd.read_csv(\"../data/sales_report.csv\", sep=',', encoding='utf-8')\n",
    "df.head()"
   ]
  },
  {
   "cell_type": "code",
   "execution_count": 14,
   "metadata": {},
   "outputs": [],
   "source": [
    "price_to_num = lambda x: float(x.replace(\"$\",\"\"))\n",
    "df['Price'] = df['Price'].map(price_to_num)"
   ]
  },
  {
   "cell_type": "code",
   "execution_count": 15,
   "metadata": {},
   "outputs": [
    {
     "data": {
      "text/html": [
       "<div>\n",
       "<style scoped>\n",
       "    .dataframe tbody tr th:only-of-type {\n",
       "        vertical-align: middle;\n",
       "    }\n",
       "\n",
       "    .dataframe tbody tr th {\n",
       "        vertical-align: top;\n",
       "    }\n",
       "\n",
       "    .dataframe thead th {\n",
       "        text-align: right;\n",
       "    }\n",
       "</style>\n",
       "<table border=\"1\" class=\"dataframe\">\n",
       "  <thead>\n",
       "    <tr style=\"text-align: right;\">\n",
       "      <th></th>\n",
       "      <th>Account</th>\n",
       "      <th>Name</th>\n",
       "      <th>Company</th>\n",
       "      <th>Manager</th>\n",
       "      <th>Product</th>\n",
       "      <th>Quantity</th>\n",
       "      <th>Price</th>\n",
       "    </tr>\n",
       "  </thead>\n",
       "  <tbody>\n",
       "    <tr>\n",
       "      <th>0</th>\n",
       "      <td>383834</td>\n",
       "      <td>Izaak Tattersall</td>\n",
       "      <td>Bahringer, Balistreri and Dickens</td>\n",
       "      <td>Gloria Osbaldeston</td>\n",
       "      <td>Pork - Ham Hocks - Smoked</td>\n",
       "      <td>1</td>\n",
       "      <td>453.55</td>\n",
       "    </tr>\n",
       "    <tr>\n",
       "      <th>1</th>\n",
       "      <td>656536</td>\n",
       "      <td>Enoch Nasey</td>\n",
       "      <td>Feeney-Aufderhar</td>\n",
       "      <td>Johnny Pearde</td>\n",
       "      <td>Wine - Chenin Blanc K.w.v.</td>\n",
       "      <td>2</td>\n",
       "      <td>760.73</td>\n",
       "    </tr>\n",
       "    <tr>\n",
       "      <th>2</th>\n",
       "      <td>627574</td>\n",
       "      <td>Clifford Dursley</td>\n",
       "      <td>Moen Inc</td>\n",
       "      <td>Earle Geaney</td>\n",
       "      <td>Raisin - Golden</td>\n",
       "      <td>3</td>\n",
       "      <td>320.12</td>\n",
       "    </tr>\n",
       "    <tr>\n",
       "      <th>3</th>\n",
       "      <td>707250</td>\n",
       "      <td>Peta Juliff</td>\n",
       "      <td>Pacocha and Sons</td>\n",
       "      <td>Paloma Sheavills</td>\n",
       "      <td>Carbonated Water - Raspberry</td>\n",
       "      <td>4</td>\n",
       "      <td>132.22</td>\n",
       "    </tr>\n",
       "    <tr>\n",
       "      <th>4</th>\n",
       "      <td>532894</td>\n",
       "      <td>Shaina Estick</td>\n",
       "      <td>Block LLC</td>\n",
       "      <td>Giovanni Schwier</td>\n",
       "      <td>Steampan Lid</td>\n",
       "      <td>5</td>\n",
       "      <td>520.72</td>\n",
       "    </tr>\n",
       "  </tbody>\n",
       "</table>\n",
       "</div>"
      ],
      "text/plain": [
       "   Account              Name                            Company  \\\n",
       "0   383834  Izaak Tattersall  Bahringer, Balistreri and Dickens   \n",
       "1   656536       Enoch Nasey                   Feeney-Aufderhar   \n",
       "2   627574  Clifford Dursley                           Moen Inc   \n",
       "3   707250       Peta Juliff                   Pacocha and Sons   \n",
       "4   532894     Shaina Estick                          Block LLC   \n",
       "\n",
       "              Manager                       Product  Quantity   Price  \n",
       "0  Gloria Osbaldeston     Pork - Ham Hocks - Smoked         1  453.55  \n",
       "1       Johnny Pearde    Wine - Chenin Blanc K.w.v.         2  760.73  \n",
       "2        Earle Geaney               Raisin - Golden         3  320.12  \n",
       "3    Paloma Sheavills  Carbonated Water - Raspberry         4  132.22  \n",
       "4    Giovanni Schwier                  Steampan Lid         5  520.72  "
      ]
     },
     "execution_count": 15,
     "metadata": {},
     "output_type": "execute_result"
    }
   ],
   "source": [
    "df.head()"
   ]
  },
  {
   "cell_type": "code",
   "execution_count": 16,
   "metadata": {},
   "outputs": [
    {
     "name": "stdout",
     "output_type": "stream",
     "text": [
      "<class 'pandas.core.frame.DataFrame'>\n",
      "RangeIndex: 1000 entries, 0 to 999\n",
      "Data columns (total 7 columns):\n",
      "Account     1000 non-null int64\n",
      "Name        1000 non-null object\n",
      "Company     1000 non-null object\n",
      "Manager     1000 non-null object\n",
      "Product     1000 non-null object\n",
      "Quantity    1000 non-null int64\n",
      "Price       1000 non-null float64\n",
      "dtypes: float64(1), int64(2), object(4)\n",
      "memory usage: 54.8+ KB\n"
     ]
    }
   ],
   "source": [
    "df.info()"
   ]
  },
  {
   "cell_type": "code",
   "execution_count": 17,
   "metadata": {},
   "outputs": [],
   "source": [
    "df.sort_values(by=['Company','Product'],inplace=True)"
   ]
  },
  {
   "cell_type": "code",
   "execution_count": 18,
   "metadata": {},
   "outputs": [
    {
     "data": {
      "text/html": [
       "<div>\n",
       "<style scoped>\n",
       "    .dataframe tbody tr th:only-of-type {\n",
       "        vertical-align: middle;\n",
       "    }\n",
       "\n",
       "    .dataframe tbody tr th {\n",
       "        vertical-align: top;\n",
       "    }\n",
       "\n",
       "    .dataframe thead tr th {\n",
       "        text-align: left;\n",
       "    }\n",
       "\n",
       "    .dataframe thead tr:last-of-type th {\n",
       "        text-align: right;\n",
       "    }\n",
       "</style>\n",
       "<table border=\"1\" class=\"dataframe\">\n",
       "  <thead>\n",
       "    <tr>\n",
       "      <th></th>\n",
       "      <th></th>\n",
       "      <th colspan=\"2\" halign=\"left\">sum</th>\n",
       "      <th colspan=\"2\" halign=\"left\">mean</th>\n",
       "    </tr>\n",
       "    <tr>\n",
       "      <th></th>\n",
       "      <th></th>\n",
       "      <th>Price</th>\n",
       "      <th>Quantity</th>\n",
       "      <th>Price</th>\n",
       "      <th>Quantity</th>\n",
       "    </tr>\n",
       "    <tr>\n",
       "      <th>Company</th>\n",
       "      <th>Product</th>\n",
       "      <th></th>\n",
       "      <th></th>\n",
       "      <th></th>\n",
       "      <th></th>\n",
       "    </tr>\n",
       "  </thead>\n",
       "  <tbody>\n",
       "    <tr>\n",
       "      <th>Abbott, Beer and Wisozk</th>\n",
       "      <th>Ice Cream Bar - Oreo Cone</th>\n",
       "      <td>541.42</td>\n",
       "      <td>923</td>\n",
       "      <td>541.42</td>\n",
       "      <td>923</td>\n",
       "    </tr>\n",
       "    <tr>\n",
       "      <th>Abbott, Metz and Emard</th>\n",
       "      <th>Sprouts - Pea</th>\n",
       "      <td>779.21</td>\n",
       "      <td>213</td>\n",
       "      <td>779.21</td>\n",
       "      <td>213</td>\n",
       "    </tr>\n",
       "    <tr>\n",
       "      <th>Abbott-Borer</th>\n",
       "      <th>Mints - Striped Red</th>\n",
       "      <td>957.16</td>\n",
       "      <td>382</td>\n",
       "      <td>957.16</td>\n",
       "      <td>382</td>\n",
       "    </tr>\n",
       "    <tr>\n",
       "      <th>Abernathy LLC</th>\n",
       "      <th>Prunes - Pitted</th>\n",
       "      <td>990.19</td>\n",
       "      <td>595</td>\n",
       "      <td>990.19</td>\n",
       "      <td>595</td>\n",
       "    </tr>\n",
       "    <tr>\n",
       "      <th>Abernathy and Sons</th>\n",
       "      <th>Wine - Touraine Azay - Le - Rideau</th>\n",
       "      <td>340.63</td>\n",
       "      <td>847</td>\n",
       "      <td>340.63</td>\n",
       "      <td>847</td>\n",
       "    </tr>\n",
       "  </tbody>\n",
       "</table>\n",
       "</div>"
      ],
      "text/plain": [
       "                                                               sum           \\\n",
       "                                                             Price Quantity   \n",
       "Company                 Product                                               \n",
       "Abbott, Beer and Wisozk Ice Cream Bar - Oreo Cone           541.42      923   \n",
       "Abbott, Metz and Emard  Sprouts - Pea                       779.21      213   \n",
       "Abbott-Borer            Mints - Striped Red                 957.16      382   \n",
       "Abernathy LLC           Prunes - Pitted                     990.19      595   \n",
       "Abernathy and Sons      Wine - Touraine Azay - Le - Rideau  340.63      847   \n",
       "\n",
       "                                                              mean           \n",
       "                                                             Price Quantity  \n",
       "Company                 Product                                              \n",
       "Abbott, Beer and Wisozk Ice Cream Bar - Oreo Cone           541.42      923  \n",
       "Abbott, Metz and Emard  Sprouts - Pea                       779.21      213  \n",
       "Abbott-Borer            Mints - Striped Red                 957.16      382  \n",
       "Abernathy LLC           Prunes - Pitted                     990.19      595  \n",
       "Abernathy and Sons      Wine - Touraine Azay - Le - Rideau  340.63      847  "
      ]
     },
     "execution_count": 18,
     "metadata": {},
     "output_type": "execute_result"
    }
   ],
   "source": [
    "sales_pivot = df.pivot_table(index=['Company','Product'],\n",
    "                             values=['Quantity','Price'],\n",
    "                             aggfunc=[np.sum,np.mean],\n",
    "                             fill_value=0)\n",
    "sales_pivot.head()"
   ]
  },
  {
   "cell_type": "code",
   "execution_count": 19,
   "metadata": {},
   "outputs": [
    {
     "data": {
      "text/plain": [
       "Wine - Gato Negro Cabernet          4\n",
       "Pail With Metal Handle 16l White    3\n",
       "Lobster - Cooked                    3\n",
       "Bandage - Fexible 1x3               3\n",
       "Veal - Liver                        3\n",
       "Name: Product, dtype: int64"
      ]
     },
     "execution_count": 19,
     "metadata": {},
     "output_type": "execute_result"
    }
   ],
   "source": [
    "df['Product'].value_counts().head()"
   ]
  },
  {
   "cell_type": "code",
   "execution_count": 20,
   "metadata": {},
   "outputs": [
    {
     "name": "stdout",
     "output_type": "stream",
     "text": [
      "423.75\n",
      "354.46666666666664\n",
      "423.75\n",
      "354.46666666666664\n"
     ]
    }
   ],
   "source": [
    "print(df[df['Product']=='Wine - Gato Negro Cabernet']['Quantity'].mean())\n",
    "print(df[df['Product']=='Pork - Tenderloin, Frozen']['Price'].mean())\n",
    "print(df[df['Product']=='Wine - Gato Negro Cabernet']['Quantity'].mean())\n",
    "print(df[df['Product']=='Pork - Tenderloin, Frozen']['Price'].mean())"
   ]
  },
  {
   "cell_type": "markdown",
   "metadata": {},
   "source": [
    "Here is a very interesting tool when you are working with pandas.\n",
    "You can simples use this function, send data to clipboard and paste on excel.\n",
    "Documentation: [link](https://pandas.pydata.org/pandas-docs/stable/generated/pandas.DataFrame.to_clipboard.html)\n",
    "\n",
    "```python\n",
    "df.to_clipboard()\n",
    "```\n",
    "\n",
    "### Notes\n",
    "\n",
    "Requirements for your platform:\n",
    "* Linux: xclip, or xsel (with gtk or PyQt4 modules)\n",
    "* Windows: none\n",
    "* OS X: none"
   ]
  },
  {
   "cell_type": "code",
   "execution_count": 21,
   "metadata": {},
   "outputs": [
    {
     "ename": "PyperclipException",
     "evalue": "\n    Pyperclip could not find a copy/paste mechanism for your system.\n    For more information, please visit https://pyperclip.readthedocs.org ",
     "output_type": "error",
     "traceback": [
      "\u001b[0;31m---------------------------------------------------------------------------\u001b[0m",
      "\u001b[0;31mPyperclipException\u001b[0m                        Traceback (most recent call last)",
      "\u001b[0;32m<ipython-input-21-d9e762ebf7d3>\u001b[0m in \u001b[0;36m<module>\u001b[0;34m()\u001b[0m\n\u001b[0;32m----> 1\u001b[0;31m \u001b[0mdf\u001b[0m\u001b[0;34m.\u001b[0m\u001b[0mto_clipboard\u001b[0m\u001b[0;34m(\u001b[0m\u001b[0;34m)\u001b[0m\u001b[0;34m\u001b[0m\u001b[0m\n\u001b[0m",
      "\u001b[0;32m~/anaconda3/lib/python3.6/site-packages/pandas/core/generic.py\u001b[0m in \u001b[0;36mto_clipboard\u001b[0;34m(self, excel, sep, **kwargs)\u001b[0m\n\u001b[1;32m   1587\u001b[0m         \"\"\"\n\u001b[1;32m   1588\u001b[0m         \u001b[0;32mfrom\u001b[0m \u001b[0mpandas\u001b[0m\u001b[0;34m.\u001b[0m\u001b[0mio\u001b[0m \u001b[0;32mimport\u001b[0m \u001b[0mclipboards\u001b[0m\u001b[0;34m\u001b[0m\u001b[0m\n\u001b[0;32m-> 1589\u001b[0;31m         \u001b[0mclipboards\u001b[0m\u001b[0;34m.\u001b[0m\u001b[0mto_clipboard\u001b[0m\u001b[0;34m(\u001b[0m\u001b[0mself\u001b[0m\u001b[0;34m,\u001b[0m \u001b[0mexcel\u001b[0m\u001b[0;34m=\u001b[0m\u001b[0mexcel\u001b[0m\u001b[0;34m,\u001b[0m \u001b[0msep\u001b[0m\u001b[0;34m=\u001b[0m\u001b[0msep\u001b[0m\u001b[0;34m,\u001b[0m \u001b[0;34m**\u001b[0m\u001b[0mkwargs\u001b[0m\u001b[0;34m)\u001b[0m\u001b[0;34m\u001b[0m\u001b[0m\n\u001b[0m\u001b[1;32m   1590\u001b[0m \u001b[0;34m\u001b[0m\u001b[0m\n\u001b[1;32m   1591\u001b[0m     \u001b[0;32mdef\u001b[0m \u001b[0mto_xarray\u001b[0m\u001b[0;34m(\u001b[0m\u001b[0mself\u001b[0m\u001b[0;34m)\u001b[0m\u001b[0;34m:\u001b[0m\u001b[0;34m\u001b[0m\u001b[0m\n",
      "\u001b[0;32m~/anaconda3/lib/python3.6/site-packages/pandas/io/clipboards.py\u001b[0m in \u001b[0;36mto_clipboard\u001b[0;34m(obj, excel, sep, **kwargs)\u001b[0m\n\u001b[1;32m    118\u001b[0m     \u001b[0;32melse\u001b[0m\u001b[0;34m:\u001b[0m\u001b[0;34m\u001b[0m\u001b[0m\n\u001b[1;32m    119\u001b[0m         \u001b[0mobjstr\u001b[0m \u001b[0;34m=\u001b[0m \u001b[0mstr\u001b[0m\u001b[0;34m(\u001b[0m\u001b[0mobj\u001b[0m\u001b[0;34m)\u001b[0m\u001b[0;34m\u001b[0m\u001b[0m\n\u001b[0;32m--> 120\u001b[0;31m     \u001b[0mclipboard_set\u001b[0m\u001b[0;34m(\u001b[0m\u001b[0mobjstr\u001b[0m\u001b[0;34m)\u001b[0m\u001b[0;34m\u001b[0m\u001b[0m\n\u001b[0m",
      "\u001b[0;32m~/anaconda3/lib/python3.6/site-packages/pandas/io/clipboard/clipboards.py\u001b[0m in \u001b[0;36m__call__\u001b[0;34m(self, *args, **kwargs)\u001b[0m\n\u001b[1;32m    125\u001b[0m \u001b[0;34m\u001b[0m\u001b[0m\n\u001b[1;32m    126\u001b[0m         \u001b[0;32mdef\u001b[0m \u001b[0m__call__\u001b[0m\u001b[0;34m(\u001b[0m\u001b[0mself\u001b[0m\u001b[0;34m,\u001b[0m \u001b[0;34m*\u001b[0m\u001b[0margs\u001b[0m\u001b[0;34m,\u001b[0m \u001b[0;34m**\u001b[0m\u001b[0mkwargs\u001b[0m\u001b[0;34m)\u001b[0m\u001b[0;34m:\u001b[0m\u001b[0;34m\u001b[0m\u001b[0m\n\u001b[0;32m--> 127\u001b[0;31m             \u001b[0;32mraise\u001b[0m \u001b[0mPyperclipException\u001b[0m\u001b[0;34m(\u001b[0m\u001b[0mEXCEPT_MSG\u001b[0m\u001b[0;34m)\u001b[0m\u001b[0;34m\u001b[0m\u001b[0m\n\u001b[0m\u001b[1;32m    128\u001b[0m \u001b[0;34m\u001b[0m\u001b[0m\n\u001b[1;32m    129\u001b[0m         \u001b[0;32mif\u001b[0m \u001b[0mPY2\u001b[0m\u001b[0;34m:\u001b[0m\u001b[0;34m\u001b[0m\u001b[0m\n",
      "\u001b[0;31mPyperclipException\u001b[0m: \n    Pyperclip could not find a copy/paste mechanism for your system.\n    For more information, please visit https://pyperclip.readthedocs.org "
     ]
    }
   ],
   "source": [
    "df.to_clipboard()"
   ]
  },
  {
   "cell_type": "markdown",
   "metadata": {},
   "source": [
    "## Templating\n",
    "Jinja is very powerfull and it's very common to use with python, it allows you to \"code\" inside a HTML template.\n",
    "\n",
    "Jinja has some [builtin filters](http://jinja.pocoo.org/docs/dev/templates/#builtin-filters) that allows you to format data."
   ]
  },
  {
   "cell_type": "markdown",
   "metadata": {},
   "source": [
    "So to start let's take a look in a simple Jinja template:\n",
    "\n",
    "```html\n",
    "<!DOCTYPE html>\n",
    "<html>\n",
    "<head lang=\"en\">\n",
    "    <meta charset=\"UTF-8\">\n",
    "    <title>{{ title }}</title>\n",
    "</head>\n",
    "<body>\n",
    "    <h2>Sales Report</h2>\n",
    "     {{ sales_pivot }}\n",
    "</body>\n",
    "</html>\n",
    "```\n",
    "\n",
    "These variables inside **{{ }}** can be used to place your data in."
   ]
  },
  {
   "cell_type": "code",
   "execution_count": 22,
   "metadata": {},
   "outputs": [],
   "source": [
    "import jinja2\n",
    "envi = jinja2.Environment(loader=jinja2.FileSystemLoader('./'))\n",
    "template = envi.get_template(\"report_template.html\")"
   ]
  },
  {
   "cell_type": "code",
   "execution_count": 23,
   "metadata": {},
   "outputs": [],
   "source": [
    "template_vars = {'title' : 'Sales',\n",
    "                 'sales_pivot' : sales_pivot.to_html()}"
   ]
  },
  {
   "cell_type": "code",
   "execution_count": 24,
   "metadata": {},
   "outputs": [],
   "source": [
    "html_out = template.render(template_vars)"
   ]
  },
  {
   "cell_type": "markdown",
   "metadata": {},
   "source": [
    "## Generate PDF"
   ]
  },
  {
   "cell_type": "markdown",
   "metadata": {},
   "source": [
    "On windows I got this error:\n",
    "```msg\n",
    "OSError: dlopen() failed to load a library: cairo / cairo-2\n",
    "```\n",
    "\n",
    "So I decided to switch to ubuntu to test asap.\n",
    "\n",
    "Possible solution:\n",
    "[Looks like you don't have cairo installed](https://github.com/Kozea/CairoSVG/issues/84)"
   ]
  },
  {
   "cell_type": "code",
   "execution_count": 25,
   "metadata": {
    "scrolled": true
   },
   "outputs": [],
   "source": [
    "from weasyprint import HTML"
   ]
  },
  {
   "cell_type": "code",
   "execution_count": 26,
   "metadata": {},
   "outputs": [],
   "source": [
    "HTML(string=html_out).write_pdf('report.pdf')"
   ]
  },
  {
   "cell_type": "markdown",
   "metadata": {},
   "source": [
    "You can use css style as well, just add stylesheets params"
   ]
  },
  {
   "cell_type": "code",
   "execution_count": 27,
   "metadata": {},
   "outputs": [],
   "source": [
    "HTML(string=html_out).write_pdf('report_css.pdf', stylesheets=[\"style.css\"])"
   ]
  },
  {
   "cell_type": "markdown",
   "metadata": {},
   "source": [
    "## More complex Report"
   ]
  },
  {
   "cell_type": "code",
   "execution_count": 28,
   "metadata": {},
   "outputs": [],
   "source": [
    "envi = jinja2.Environment(loader=jinja2.FileSystemLoader('../'))\n",
    "template = envi.get_template(\"templates/content.html\")"
   ]
  },
  {
   "cell_type": "code",
   "execution_count": 29,
   "metadata": {},
   "outputs": [],
   "source": [
    "data_dict = [{'Descrição': 'Avaliaram', 'Valor': 10},\n",
    "            {'Descrição': 'Não Avaliaram', 'Valor': 5}]\n",
    "\n",
    "values = []"
   ]
  },
  {
   "cell_type": "code",
   "execution_count": 30,
   "metadata": {},
   "outputs": [
    {
     "data": {
      "text/html": [
       "<div>\n",
       "<style scoped>\n",
       "    .dataframe tbody tr th:only-of-type {\n",
       "        vertical-align: middle;\n",
       "    }\n",
       "\n",
       "    .dataframe tbody tr th {\n",
       "        vertical-align: top;\n",
       "    }\n",
       "\n",
       "    .dataframe thead th {\n",
       "        text-align: right;\n",
       "    }\n",
       "</style>\n",
       "<table border=\"1\" class=\"dataframe\">\n",
       "  <thead>\n",
       "    <tr style=\"text-align: right;\">\n",
       "      <th></th>\n",
       "      <th>Descrição</th>\n",
       "      <th>Valor</th>\n",
       "    </tr>\n",
       "  </thead>\n",
       "  <tbody>\n",
       "    <tr>\n",
       "      <th>0</th>\n",
       "      <td>Avaliaram</td>\n",
       "      <td>10</td>\n",
       "    </tr>\n",
       "    <tr>\n",
       "      <th>1</th>\n",
       "      <td>Não Avaliaram</td>\n",
       "      <td>5</td>\n",
       "    </tr>\n",
       "  </tbody>\n",
       "</table>\n",
       "</div>"
      ],
      "text/plain": [
       "       Descrição  Valor\n",
       "0      Avaliaram     10\n",
       "1  Não Avaliaram      5"
      ]
     },
     "execution_count": 30,
     "metadata": {},
     "output_type": "execute_result"
    }
   ],
   "source": [
    "data = pd.DataFrame(data_dict)\n",
    "data.head()"
   ]
  },
  {
   "cell_type": "code",
   "execution_count": 31,
   "metadata": {},
   "outputs": [],
   "source": [
    "import matplotlib.pyplot as plt"
   ]
  },
  {
   "cell_type": "code",
   "execution_count": 32,
   "metadata": {},
   "outputs": [],
   "source": [
    "params = {\n",
    "    'kind': 'pie',\n",
    "    'ylim': (0, 100),\n",
    "    'legend': False,\n",
    "    'figsize': (14, 7),\n",
    "    'grid': True,\n",
    "    'color': \"#339966\",\n",
    "    'rot': 90\n",
    "}"
   ]
  },
  {
   "cell_type": "code",
   "execution_count": 33,
   "metadata": {},
   "outputs": [],
   "source": [
    "def make_autopct(values):\n",
    "    def my_autopct(pct):\n",
    "        total = sum(values)\n",
    "        val = int(round(pct*total/100.0))\n",
    "        return '{p:.0f}%  ({v:d})'.format(p=pct,v=val)\n",
    "    return my_autopct"
   ]
  },
  {
   "cell_type": "code",
   "execution_count": 34,
   "metadata": {},
   "outputs": [],
   "source": [
    "plot_params = {\n",
    "    'y':'Valor',\n",
    "    'kind':'pie',\n",
    "    'figsize':(5, 5),\n",
    "    'labels':data['Descrição'],\n",
    "    'legend':False,\n",
    "    'autopct':make_autopct(data['Valor'])\n",
    "}"
   ]
  },
  {
   "cell_type": "code",
   "execution_count": 35,
   "metadata": {
    "scrolled": true
   },
   "outputs": [
    {
     "data": {
      "image/png": "[encoded data removed]",
      "text/plain": [
       "<matplotlib.figure.Figure at 0x7f1e6df2cda0>"
      ]
     },
     "metadata": {},
     "output_type": "display_data"
    }
   ],
   "source": [
    "plot = data.plot(**plot_params)\n",
    "_ = plot.set_ylabel(\"\")"
   ]
  },
  {
   "cell_type": "code",
   "execution_count": 126,
   "metadata": {},
   "outputs": [],
   "source": [
    "plot?"
   ]
  },
  {
   "cell_type": "code",
   "execution_count": 36,
   "metadata": {},
   "outputs": [],
   "source": [
    "fig = plot.get_figure()"
   ]
  },
  {
   "cell_type": "code",
   "execution_count": 37,
   "metadata": {},
   "outputs": [],
   "source": [
    "fig.savefig('fig.png')"
   ]
  },
  {
   "cell_type": "markdown",
   "metadata": {},
   "source": [
    "https://stackoverflow.com/questions/31492525/converting-matplotlib-png-to-base64-for-viewing-in-html-template"
   ]
  },
  {
   "cell_type": "code",
   "execution_count": 39,
   "metadata": {},
   "outputs": [],
   "source": [
    "from io import BytesIO\n",
    "figfile = BytesIO()\n",
    "fig.savefig(figfile, format='png')\n",
    "figfile.seek(0)\n",
    "figdata_png = figfile.getvalue()\n",
    "import base64\n",
    "figdata_png = base64.b64encode(figfile.getvalue())"
   ]
  },
  {
   "cell_type": "code",
   "execution_count": 40,
   "metadata": {},
   "outputs": [],
   "source": [
    "template_vars = {'title' : 'Pie Chart',\n",
    "                 'chart' : figdata_png.decode('utf8')}"
   ]
  },
  {
   "cell_type": "code",
   "execution_count": 41,
   "metadata": {},
   "outputs": [],
   "source": [
    "template = envi.get_template(\"notebooks/report_template_fig.html\")"
   ]
  },
  {
   "cell_type": "code",
   "execution_count": 42,
   "metadata": {},
   "outputs": [],
   "source": [
    "html_out = template.render(template_vars)"
   ]
  },
  {
   "cell_type": "code",
   "execution_count": 43,
   "metadata": {},
   "outputs": [
    {
     "data": {
      "text/plain": [
       "'<!DOCTYPE html>\\n<html>\\n<head lang=\"en\">\\n    <meta charset=\"UTF-8\">\\n    <title>Pie Chart</title>\\n</head>\\n<body>\\n    <h2>Pie Chart</h2>\\n     <img src=\"data:image/png;base64,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\"\\\\>\\n</body>\\n</html>'"
      ]
     },
     "execution_count": 43,
     "metadata": {},
     "output_type": "execute_result"
    }
   ],
   "source": [
    "html_out"
   ]
  },
  {
   "cell_type": "code",
   "execution_count": 44,
   "metadata": {},
   "outputs": [],
   "source": [
    "HTML(string=html_out).write_pdf('report_fig.pdf', stylesheets=[\"style.css\"])"
   ]
  },
  {
   "cell_type": "code",
   "execution_count": 67,
   "metadata": {},
   "outputs": [],
   "source": [
    "template_vars = {'pizza_chart' : figdata_png.decode('utf8'),\n",
    "                 'formadora' : 'Mary Jones',\n",
    "                 'email_formadora' : 'mary@formacao.com.br',\n",
    "                 'municipio' : 'Liberty City',\n",
    "                 'start_date' : '01/04',\n",
    "                 'end_date' : '01/04',\n",
    "                 'current_week' : 4,\n",
    "                 'last_week' : 5,\n",
    "                 'disciplina' : 'História',\n",
    "                 'professores_participantes' :  15,\n",
    "                 'professores_q_avaliaram' : 10,\n",
    "                 'avaliacoes_realizadas' : 12,\n",
    "                 'professores_q_nao_avaliaram' : 5,\n",
    "                 'prof_acessaram' : 11,\n",
    "                 'prof_q_n_entraram' : 4,\n",
    "                 'meta_planos' : 4,\n",
    "                 'prof_ok' : 8,\n",
    "                 'prof_n_ok' : 7,\n",
    "                 'title' : 'Relatório'\n",
    "                }"
   ]
  },
  {
   "cell_type": "code",
   "execution_count": 68,
   "metadata": {},
   "outputs": [],
   "source": [
    "template = envi.get_template(\"templates/content.html\")"
   ]
  },
  {
   "cell_type": "code",
   "execution_count": 69,
   "metadata": {},
   "outputs": [],
   "source": [
    "html_out = template.render(template_vars)"
   ]
  },
  {
   "cell_type": "code",
   "execution_count": 70,
   "metadata": {},
   "outputs": [],
   "source": [
    "HTML(string=html_out).write_pdf('report_content.pdf')"
   ]
  },
  {
   "cell_type": "code",
   "execution_count": null,
   "metadata": {},
   "outputs": [],
   "source": []
  }
 ],
 "metadata": {
  "kernelspec": {
   "display_name": "Python [default]",
   "language": "python",
   "name": "python3"
  },
  "language_info": {
   "codemirror_mode": {
    "name": "ipython",
    "version": 3
   },
   "file_extension": ".py",
   "mimetype": "text/x-python",
   "name": "python",
   "nbconvert_exporter": "python",
   "pygments_lexer": "ipython3",
   "version": "3.6.4"
  }
 },
 "nbformat": 4,
 "nbformat_minor": 2
}
